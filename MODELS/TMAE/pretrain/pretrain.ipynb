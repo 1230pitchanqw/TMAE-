{
 "cells": [
  {
   "cell_type": "code",
   "execution_count": 1,
   "id": "southeast-livestock",
   "metadata": {},
   "outputs": [],
   "source": [
    "from gensim.models import Word2Vec"
   ]
  },
  {
   "cell_type": "code",
   "execution_count": 2,
   "id": "living-fraud",
   "metadata": {},
   "outputs": [],
   "source": [
    "import numpy as np\n",
    "import _pickle as pickle"
   ]
  },
  {
   "cell_type": "code",
   "execution_count": 3,
   "id": "defined-explanation",
   "metadata": {},
   "outputs": [],
   "source": [
    "code_seq_2013 = pickle.load(open(\"../../DATA/code_seq_2013\",\"rb\"))\n",
    "\n",
    "proc2cat = pickle.load(open(\"../../DATA/CCS/proc2cat\",\"rb\"))\n",
    "diag2cat = pickle.load(open(\"../../DATA/CCS/diag2cat\",\"rb\"))\n",
    "drug2cat = pickle.load(open(\"../../DATA/CCS/drug2cat\",\"rb\"))"
   ]
  },
  {
   "cell_type": "markdown",
   "id": "statistical-brush",
   "metadata": {},
   "source": [
    "# patient-level sentences"
   ]
  },
  {
   "cell_type": "code",
   "execution_count": 27,
   "id": "dedicated-composer",
   "metadata": {},
   "outputs": [],
   "source": [
    "def get_ccs(seq, diag2cat, proc2cat, drug2cat):\n",
    "    new_seq = []\n",
    "    for p in seq:\n",
    "        new_p = []\n",
    "        for v in p:\n",
    "            new_v = []\n",
    "            for c in v:\n",
    "                if c in diag2cat :\n",
    "                    new_c = diag2cat[c]\n",
    "                elif c in proc2cat:\n",
    "                    new_c = proc2cat[c]\n",
    "                elif c in drug2cat:\n",
    "                    new_c = drug2cat[c]\n",
    "                else:\n",
    "                    new_c = c[:5]\n",
    "                new_v.append(new_c)\n",
    "            new_p.append(new_v)\n",
    "        new_seq.append(new_p)\n",
    "    return new_seq\n",
    "\n",
    "def process_code(seq, PAD=True):\n",
    "    new_seq = []\n",
    "    if PAD: vocab2int = {\"PAD\":0}\n",
    "    else: vocab2int = {}\n",
    "    for p in seq:\n",
    "        new_p = []\n",
    "        for v in p:\n",
    "            new_v = []\n",
    "            for c in v:\n",
    "                if c not in vocab2int: vocab2int[c] = len(vocab2int)\n",
    "                new_v.append(vocab2int[c])\n",
    "            new_p.append(new_v)\n",
    "        new_seq.append(new_p)\n",
    "    return new_seq, vocab2int"
   ]
  },
  {
   "cell_type": "code",
   "execution_count": 28,
   "id": "civic-pension",
   "metadata": {},
   "outputs": [],
   "source": [
    "ccs_seq = get_ccs(code_seq_2013, diag2cat, proc2cat, drug2cat)\n",
    "ccs_feature, ccs2int = process_code(ccs_seq)  \n",
    "code_feature, code2int = process_code(code_seq_2013)  "
   ]
  },
  {
   "cell_type": "code",
   "execution_count": 29,
   "id": "better-tracy",
   "metadata": {},
   "outputs": [],
   "source": [
    "ccs_sentence = [[c for v in p for c in v] for p in ccs_seq]\n",
    "\n",
    "embed_size = 100\n",
    "model_ccs = Word2Vec(ccs_sentence, size=embed_size, window=10, min_count=0, workers=4)"
   ]
  },
  {
   "cell_type": "code",
   "execution_count": 30,
   "id": "downtown-employment",
   "metadata": {},
   "outputs": [],
   "source": [
    "code_sentence = [[c for v in p for c in v] for p in code_seq_2013]\n",
    "\n",
    "embed_size = 100\n",
    "model_code = Word2Vec(code_sentence, size=embed_size, window=10, min_count=0, workers=4)"
   ]
  },
  {
   "cell_type": "code",
   "execution_count": 31,
   "id": "forward-bibliography",
   "metadata": {},
   "outputs": [],
   "source": [
    "# code_embedding = np.zeros((len(code2int), embed_size))\n",
    "# for code in code2int:\n",
    "#     if code==\"PAD\": continue\n",
    "#     code_embedding[code2int[code]] = model_code.wv[code]\n",
    "# code_embedding = np.array(code_embedding)\n",
    "# code_embedding.shape"
   ]
  },
  {
   "cell_type": "code",
   "execution_count": 32,
   "id": "composed-filing",
   "metadata": {},
   "outputs": [],
   "source": [
    "# ccs_embedding = np.zeros((len(ccs2int), embed_size))\n",
    "# for ccs in ccs2int:\n",
    "#     if ccs==\"PAD\": continue\n",
    "#     ccs_embedding[ccs2int[ccs]] = model_ccs.wv[ccs]\n",
    "# ccs_embedding = np.array(ccs_embedding)\n",
    "# ccs_embedding.shape"
   ]
  },
  {
   "cell_type": "code",
   "execution_count": 33,
   "id": "nervous-gateway",
   "metadata": {},
   "outputs": [],
   "source": [
    "model_ccs.save(\"model_ccs\")"
   ]
  },
  {
   "cell_type": "code",
   "execution_count": 34,
   "id": "welcome-panama",
   "metadata": {},
   "outputs": [],
   "source": [
    "model_code.save(\"model_code\")"
   ]
  },
  {
   "cell_type": "code",
   "execution_count": null,
   "id": "catholic-yeast",
   "metadata": {},
   "outputs": [],
   "source": []
  },
  {
   "cell_type": "code",
   "execution_count": null,
   "id": "settled-manhattan",
   "metadata": {},
   "outputs": [],
   "source": []
  }
 ],
 "metadata": {
  "kernelspec": {
   "display_name": "Python 3",
   "language": "python",
   "name": "python3"
  },
  "language_info": {
   "codemirror_mode": {
    "name": "ipython",
    "version": 3
   },
   "file_extension": ".py",
   "mimetype": "text/x-python",
   "name": "python",
   "nbconvert_exporter": "python",
   "pygments_lexer": "ipython3",
   "version": "3.7.9"
  }
 },
 "nbformat": 4,
 "nbformat_minor": 5
}
