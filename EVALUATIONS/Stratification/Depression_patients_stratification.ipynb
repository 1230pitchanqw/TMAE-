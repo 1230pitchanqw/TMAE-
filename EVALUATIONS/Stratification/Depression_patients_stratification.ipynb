{
 "cells": [
  {
   "cell_type": "code",
   "execution_count": 1,
   "id": "supreme-calendar",
   "metadata": {},
   "outputs": [
    {
     "name": "stdout",
     "output_type": "stream",
     "text": [
      "time: 333 µs\n"
     ]
    }
   ],
   "source": [
    "%load_ext autotime"
   ]
  },
  {
   "cell_type": "code",
   "execution_count": 2,
   "id": "surrounded-empty",
   "metadata": {},
   "outputs": [
    {
     "name": "stdout",
     "output_type": "stream",
     "text": [
      "time: 3.05 s\n"
     ]
    }
   ],
   "source": [
    "import numpy as np\n",
    "import _pickle as pickle\n",
    "import seaborn as sns\n",
    "import matplotlib.pylab as plt\n",
    "from collections import Counter\n",
    "from sklearn.manifold import TSNE"
   ]
  },
  {
   "cell_type": "code",
   "execution_count": 3,
   "id": "dimensional-yesterday",
   "metadata": {},
   "outputs": [
    {
     "name": "stdout",
     "output_type": "stream",
     "text": [
      "time: 95.8 ms\n"
     ]
    }
   ],
   "source": [
    "age_seq = pickle.load(open(\"../../DATA/age_seq\",\"rb\"))\n",
    "sex_seq = pickle.load(open(\"../../DATA/sex_seq\",\"rb\"))"
   ]
  },
  {
   "cell_type": "code",
   "execution_count": 4,
   "id": "laden-going",
   "metadata": {},
   "outputs": [
    {
     "name": "stdout",
     "output_type": "stream",
     "text": [
      "time: 18.5 s\n"
     ]
    }
   ],
   "source": [
    "code_seq_2013 = pickle.load(open(\"../../DATA/code_seq_2013\",\"rb\"))\n",
    "cost_seq_2013 = pickle.load(open(\"../../DATA/cost_seq_2013\",\"rb\"))\n",
    "date_seq_2013 = pickle.load(open(\"../../DATA/date_seq_2013\",\"rb\"))\n",
    "util_seq_2013 = pickle.load(open(\"../../DATA/util_seq_2013\",\"rb\"))"
   ]
  },
  {
   "cell_type": "code",
   "execution_count": 5,
   "id": "tender-procurement",
   "metadata": {},
   "outputs": [
    {
     "name": "stdout",
     "output_type": "stream",
     "text": [
      "time: 18.9 s\n"
     ]
    }
   ],
   "source": [
    "code_seq_2014 = pickle.load(open(\"../../DATA/code_seq_2014\",\"rb\"))\n",
    "cost_seq_2014 = pickle.load(open(\"../../DATA/cost_seq_2014\",\"rb\"))\n",
    "date_seq_2014 = pickle.load(open(\"../../DATA/date_seq_2014\",\"rb\"))\n",
    "util_seq_2014 = pickle.load(open(\"../../DATA/util_seq_2014\",\"rb\"))"
   ]
  },
  {
   "cell_type": "code",
   "execution_count": null,
   "id": "tired-place",
   "metadata": {},
   "outputs": [],
   "source": []
  },
  {
   "cell_type": "code",
   "execution_count": 6,
   "id": "angry-interstate",
   "metadata": {},
   "outputs": [
    {
     "name": "stdout",
     "output_type": "stream",
     "text": [
      "time: 229 ms\n"
     ]
    }
   ],
   "source": [
    "TMAE_Embedding = pickle.load(open(\"../../MODELS/TMAE/Embeddings/TMAE_Embedding_100\",\"rb\"))"
   ]
  },
  {
   "cell_type": "code",
   "execution_count": 7,
   "id": "innovative-instruction",
   "metadata": {},
   "outputs": [
    {
     "name": "stdout",
     "output_type": "stream",
     "text": [
      "time: 2.33 ms\n"
     ]
    }
   ],
   "source": [
    "from sklearn.metrics import silhouette_score\n",
    "\n",
    "def calculate_WSS(points, kmax):\n",
    "    sse = []\n",
    "    for k in range(1, kmax+1):\n",
    "        kmeans = KMeans(n_clusters = k).fit(points)\n",
    "        centroids = kmeans.cluster_centers_\n",
    "        pred_clusters = kmeans.predict(points)\n",
    "        curr_sse = 0\n",
    "        # calculate square of Euclidean distance of each point from its cluster center and add to current WSS\n",
    "        for i in range(len(points)):\n",
    "            curr_center = centroids[pred_clusters[i]]\n",
    "            curr_sse += (points[i, 0] - curr_center[0]) ** 2 + (points[i, 1] - curr_center[1]) ** 2\n",
    "      \n",
    "        sse.append(curr_sse)\n",
    "    return sse\n",
    "\n",
    "def calculate_SIL(x, kmax = 10):\n",
    "    sil = []\n",
    "    # dissimilarity would not be defined for a single cluster, thus, minimum number of clusters should be 2\n",
    "    for k in range(2, kmax+1):\n",
    "        kmeans = KMeans(n_clusters = k).fit(x)\n",
    "        labels = kmeans.labels_\n",
    "        sil.append(silhouette_score(x, labels, metric = 'euclidean'))\n",
    "    return sil"
   ]
  },
  {
   "cell_type": "code",
   "execution_count": 8,
   "id": "excellent-tractor",
   "metadata": {},
   "outputs": [
    {
     "name": "stdout",
     "output_type": "stream",
     "text": [
      "time: 65.4 ms\n"
     ]
    }
   ],
   "source": [
    "from sklearn.cluster import KMeans\n",
    "from collections import Counter"
   ]
  },
  {
   "cell_type": "code",
   "execution_count": 9,
   "id": "passing-india",
   "metadata": {},
   "outputs": [
    {
     "name": "stdout",
     "output_type": "stream",
     "text": [
      "time: 2.91 s\n"
     ]
    }
   ],
   "source": [
    "icd3_seq = []\n",
    "\n",
    "for p in code_seq_2013:\n",
    "    p_codes = []\n",
    "    for v in p:\n",
    "        new_v = []\n",
    "        for c in v:\n",
    "            c = c[:5]\n",
    "            new_v.append(c)\n",
    "        p_codes.extend(list(set(new_v)))\n",
    "    icd3_seq.append(p_codes)"
   ]
  },
  {
   "cell_type": "code",
   "execution_count": 10,
   "id": "possible-monte",
   "metadata": {},
   "outputs": [
    {
     "name": "stdout",
     "output_type": "stream",
     "text": [
      "time: 1.06 ms\n"
     ]
    }
   ],
   "source": [
    "def select_diag(icd3_code, freq=1):\n",
    "    idx_seq = []\n",
    "    for i, p_code in enumerate(icd3_seq):\n",
    "        if icd3_code in p_code and Counter(p_code)[icd3_code]>=freq:\n",
    "            idx_seq.append(i)\n",
    "    return idx_seq"
   ]
  },
  {
   "cell_type": "code",
   "execution_count": null,
   "id": "middle-abuse",
   "metadata": {},
   "outputs": [],
   "source": []
  },
  {
   "cell_type": "code",
   "execution_count": 11,
   "id": "pharmaceutical-oliver",
   "metadata": {},
   "outputs": [
    {
     "data": {
      "text/plain": [
       "1277"
      ]
     },
     "execution_count": 11,
     "metadata": {},
     "output_type": "execute_result"
    },
    {
     "name": "stdout",
     "output_type": "stream",
     "text": [
      "time: 206 ms\n"
     ]
    }
   ],
   "source": [
    "idx = select_diag(\"D_296\", freq=1)\n",
    "len(idx)"
   ]
  },
  {
   "cell_type": "code",
   "execution_count": null,
   "id": "tropical-tulsa",
   "metadata": {},
   "outputs": [],
   "source": []
  },
  {
   "cell_type": "code",
   "execution_count": 12,
   "id": "lesbian-military",
   "metadata": {},
   "outputs": [
    {
     "data": {
      "image/png": "[encoded data removed]",
      "text/plain": [
       "<Figure size 432x288 with 1 Axes>"
      ]
     },
     "metadata": {
      "needs_background": "light"
     },
     "output_type": "display_data"
    },
    {
     "name": "stdout",
     "output_type": "stream",
     "text": [
      "time: 1.97 s\n"
     ]
    }
   ],
   "source": [
    "kmax = 8\n",
    "points = TMAE_Embedding[idx]\n",
    "sse = calculate_WSS(points, kmax=kmax)\n",
    "plt.plot(range(1, kmax+1), sse)\n",
    "plt.xlabel(\"# of clusters\")\n",
    "plt.ylabel(\"within-cluster sum of squares (WWS)\")\n",
    "plt.savefig(\"depression\", dpi=300)"
   ]
  },
  {
   "cell_type": "code",
   "execution_count": null,
   "id": "divine-theology",
   "metadata": {},
   "outputs": [],
   "source": []
  },
  {
   "cell_type": "code",
   "execution_count": null,
   "id": "sitting-pottery",
   "metadata": {},
   "outputs": [],
   "source": []
  },
  {
   "cell_type": "code",
   "execution_count": 13,
   "id": "turkish-albuquerque",
   "metadata": {},
   "outputs": [
    {
     "name": "stdout",
     "output_type": "stream",
     "text": [
      "time: 289 ms\n"
     ]
    }
   ],
   "source": [
    "from sklearn.cluster import KMeans\n",
    "\n",
    "n=2\n",
    "kmeans = KMeans(n_clusters=n, random_state=0).fit(TMAE_Embedding[idx])\n",
    "group_id = {i: np.where(kmeans.labels_ == i)[0] for i in range(n)}"
   ]
  },
  {
   "cell_type": "code",
   "execution_count": 14,
   "id": "logical-genius",
   "metadata": {},
   "outputs": [
    {
     "data": {
      "text/plain": [
       "Counter({1: 796, 0: 481})"
      ]
     },
     "execution_count": 14,
     "metadata": {},
     "output_type": "execute_result"
    },
    {
     "name": "stdout",
     "output_type": "stream",
     "text": [
      "time: 19.7 ms\n"
     ]
    }
   ],
   "source": [
    "Counter(kmeans.labels_)"
   ]
  },
  {
   "cell_type": "code",
   "execution_count": 15,
   "id": "appropriate-stroke",
   "metadata": {},
   "outputs": [
    {
     "name": "stdout",
     "output_type": "stream",
     "text": [
      "time: 1.65 ms\n"
     ]
    }
   ],
   "source": [
    "def cluster_output(seq_2013, seq_2014, k=2, mean_flag=False):\n",
    "    for i in range(k):\n",
    "        print(\"CLUSTERS:\",i)\n",
    "        cluster_idx = np.where(kmeans.labels_ == i)[0]\n",
    "        if mean_flag: \n",
    "            print(\"2013:\", np.mean(seq_2013[cluster_idx]))\n",
    "            print(\"2014:\", np.mean(seq_2014[cluster_idx]))\n",
    "        else:\n",
    "            print(\"2013:\", np.median(seq_2013[cluster_idx]))\n",
    "            print(\"2014:\", np.median(seq_2014[cluster_idx]))\n",
    "        print()"
   ]
  },
  {
   "cell_type": "code",
   "execution_count": 16,
   "id": "accomplished-moldova",
   "metadata": {},
   "outputs": [
    {
     "name": "stdout",
     "output_type": "stream",
     "text": [
      "time: 5.3 ms\n"
     ]
    }
   ],
   "source": [
    "def generate_cost_seqs(cost_seq, util_seq):\n",
    "    RX_cost, IP_cost, OP_cost = [],[],[]\n",
    "    for p_cost, p_util in zip(cost_seq, util_seq):\n",
    "        RX_, IP_, OP_ = 0, 0, 0\n",
    "        for cost, util in zip(p_cost, p_util):\n",
    "            if \"RX\" in util:\n",
    "                RX_ += cost\n",
    "            elif \"IP\" in util:\n",
    "                IP_ += cost\n",
    "            else:\n",
    "                OP_ += cost\n",
    "        RX_cost.append(RX_)\n",
    "        IP_cost.append(IP_)\n",
    "        OP_cost.append(OP_)\n",
    "    return np.array(RX_cost), np.array(IP_cost), np.array(OP_cost), np.array([sum(k) for k in cost_seq])\n",
    "\n",
    "def generate_util_seqs(util_seq):\n",
    "    RX_visit, IP_visit, OP_visit = [],[],[]\n",
    "    for p_util in util_seq:\n",
    "        RX_, IP_, OP_ = 0, 0, 0\n",
    "        for util in p_util:\n",
    "            if \"RX\" in util:\n",
    "                RX_ += 1\n",
    "            elif \"IP\" in util:\n",
    "                IP_ += 1\n",
    "            else:\n",
    "                OP_ += 1\n",
    "        RX_visit.append(RX_)\n",
    "        IP_visit.append(IP_)\n",
    "        OP_visit.append(OP_)\n",
    "    return np.array(RX_visit), np.array(IP_visit), np.array(OP_visit)\n",
    "\n"
   ]
  },
  {
   "cell_type": "code",
   "execution_count": 31,
   "id": "related-nature",
   "metadata": {},
   "outputs": [
    {
     "name": "stdout",
     "output_type": "stream",
     "text": [
      "time: 2.35 s\n"
     ]
    }
   ],
   "source": [
    "RX_2013, IP_2013, OP_2013, total_2013 = generate_cost_seqs(cost_seq_2013, util_seq_2013)\n",
    "RX_2014, IP_2014, OP_2014, total_2014 = generate_cost_seqs(cost_seq_2014, util_seq_2014)"
   ]
  },
  {
   "cell_type": "code",
   "execution_count": 32,
   "id": "quality-birthday",
   "metadata": {},
   "outputs": [
    {
     "name": "stdout",
     "output_type": "stream",
     "text": [
      "CLUSTERS: 0\n",
      "2013: 1861.9100000000003\n",
      "2014: 1662.04\n",
      "\n",
      "CLUSTERS: 1\n",
      "2013: 164.89\n",
      "2014: 149.16500000000002\n",
      "\n",
      "time: 2.16 ms\n"
     ]
    }
   ],
   "source": [
    "cluster_output(RX_2013[idx], RX_2014[idx], k=n)"
   ]
  },
  {
   "cell_type": "code",
   "execution_count": 33,
   "id": "overall-journalism",
   "metadata": {},
   "outputs": [
    {
     "name": "stdout",
     "output_type": "stream",
     "text": [
      "CLUSTERS: 0\n",
      "2013: 0.0\n",
      "2014: 0.0\n",
      "\n",
      "CLUSTERS: 1\n",
      "2013: 0.0\n",
      "2014: 0.0\n",
      "\n",
      "time: 2.33 ms\n"
     ]
    }
   ],
   "source": [
    "cluster_output(IP_2013[idx], IP_2014[idx], k=n)"
   ]
  },
  {
   "cell_type": "code",
   "execution_count": 34,
   "id": "latin-penalty",
   "metadata": {},
   "outputs": [
    {
     "name": "stdout",
     "output_type": "stream",
     "text": [
      "CLUSTERS: 0\n",
      "2013: 629.5699999999998\n",
      "2014: 518.37\n",
      "\n",
      "CLUSTERS: 1\n",
      "2013: 960.7350000000001\n",
      "2014: 717.71\n",
      "\n",
      "time: 6.39 ms\n"
     ]
    }
   ],
   "source": [
    "cluster_output(OP_2013[idx], OP_2014[idx], k=n)"
   ]
  },
  {
   "cell_type": "code",
   "execution_count": 35,
   "id": "pleasant-pregnancy",
   "metadata": {},
   "outputs": [
    {
     "name": "stdout",
     "output_type": "stream",
     "text": [
      "CLUSTERS: 0\n",
      "2013: 2650.2400000000007\n",
      "2014: 2574.58\n",
      "\n",
      "CLUSTERS: 1\n",
      "2013: 1508.775\n",
      "2014: 1124.595\n",
      "\n",
      "time: 3.3 ms\n"
     ]
    }
   ],
   "source": [
    "cluster_output(total_2013[idx], total_2014[idx], k=n)"
   ]
  },
  {
   "cell_type": "code",
   "execution_count": null,
   "id": "altered-jacob",
   "metadata": {},
   "outputs": [],
   "source": []
  },
  {
   "cell_type": "code",
   "execution_count": null,
   "id": "accepted-stomach",
   "metadata": {},
   "outputs": [],
   "source": []
  },
  {
   "cell_type": "code",
   "execution_count": 36,
   "id": "small-statement",
   "metadata": {},
   "outputs": [
    {
     "name": "stdout",
     "output_type": "stream",
     "text": [
      "time: 761 ms\n"
     ]
    }
   ],
   "source": [
    "RX_2013, IP_2013, OP_2013 = generate_util_seqs(util_seq_2013)\n",
    "RX_2014, IP_2014, OP_2014 = generate_util_seqs(util_seq_2014)"
   ]
  },
  {
   "cell_type": "code",
   "execution_count": 37,
   "id": "substantial-concentration",
   "metadata": {},
   "outputs": [
    {
     "name": "stdout",
     "output_type": "stream",
     "text": [
      "CLUSTERS: 0\n",
      "2013: 12.033264033264032\n",
      "2014: 13.33056133056133\n",
      "\n",
      "CLUSTERS: 1\n",
      "2013: 7.017587939698492\n",
      "2014: 8.277638190954773\n",
      "\n",
      "time: 1.79 ms\n"
     ]
    }
   ],
   "source": [
    "cluster_output(RX_2013[idx], RX_2014[idx], k=n, mean_flag=True)"
   ]
  },
  {
   "cell_type": "code",
   "execution_count": 38,
   "id": "blocked-learning",
   "metadata": {},
   "outputs": [
    {
     "name": "stdout",
     "output_type": "stream",
     "text": [
      "CLUSTERS: 0\n",
      "2013: 0.06860706860706861\n",
      "2014: 0.04158004158004158\n",
      "\n",
      "CLUSTERS: 1\n",
      "2013: 0.21733668341708542\n",
      "2014: 0.08542713567839195\n",
      "\n",
      "time: 6.62 ms\n"
     ]
    }
   ],
   "source": [
    "cluster_output(IP_2013[idx], IP_2014[idx], k=n, mean_flag=True)"
   ]
  },
  {
   "cell_type": "code",
   "execution_count": 39,
   "id": "emotional-march",
   "metadata": {},
   "outputs": [
    {
     "name": "stdout",
     "output_type": "stream",
     "text": [
      "CLUSTERS: 0\n",
      "2013: 8.295218295218294\n",
      "2014: 8.77962577962578\n",
      "\n",
      "CLUSTERS: 1\n",
      "2013: 10.207286432160805\n",
      "2014: 9.644472361809045\n",
      "\n",
      "time: 1.58 ms\n"
     ]
    }
   ],
   "source": [
    "cluster_output(OP_2013[idx], OP_2014[idx], k=n, mean_flag=True)"
   ]
  },
  {
   "cell_type": "code",
   "execution_count": null,
   "id": "emerging-template",
   "metadata": {},
   "outputs": [],
   "source": []
  },
  {
   "cell_type": "code",
   "execution_count": 40,
   "id": "complex-speaker",
   "metadata": {},
   "outputs": [
    {
     "name": "stdout",
     "output_type": "stream",
     "text": [
      "CLUSTERS: 0\n",
      "age 11.205821205821206\n",
      "Counter({'M': 340, 'F': 141})\n",
      "[0.7068607068607069, 0.29313929313929316]\n",
      "\n",
      "CLUSTERS: 1\n",
      "age 13.172110552763819\n",
      "Counter({'F': 510, 'M': 286})\n",
      "[0.6407035175879398, 0.3592964824120603]\n",
      "\n",
      "time: 100 ms\n"
     ]
    }
   ],
   "source": [
    "for i in range(n):\n",
    "    print(\"CLUSTERS:\",i)\n",
    "    cluster_idx = np.where(kmeans.labels_ == i)[0]\n",
    "    print(\"age\", np.mean(np.array(age_seq)[idx][cluster_idx]))\n",
    "    \n",
    "    print(Counter(np.array(sex_seq)[idx][cluster_idx]))\n",
    "    print([i/len(cluster_idx) for i in Counter(np.array(sex_seq)[idx][cluster_idx]).values()])\n",
    "    print()\n",
    "\n",
    "\n"
   ]
  },
  {
   "cell_type": "code",
   "execution_count": null,
   "id": "marine-experiment",
   "metadata": {},
   "outputs": [],
   "source": []
  },
  {
   "cell_type": "code",
   "execution_count": 41,
   "id": "broadband-wesley",
   "metadata": {},
   "outputs": [
    {
     "data": {
      "text/plain": [
       "1277"
      ]
     },
     "execution_count": 41,
     "metadata": {},
     "output_type": "execute_result"
    },
    {
     "name": "stdout",
     "output_type": "stream",
     "text": [
      "time: 1.08 s\n"
     ]
    }
   ],
   "source": [
    "pcode_seq = []\n",
    "\n",
    "for p in code_seq_2013:\n",
    "    pcode = []\n",
    "    for v in p:\n",
    "        for c in v:\n",
    "            pcode.append(c)\n",
    "    pcode_seq.append(pcode)\n",
    "    \n",
    "pcode_seq = [pcode_seq[i] for i in idx]\n",
    "len(pcode_seq)"
   ]
  },
  {
   "cell_type": "code",
   "execution_count": 42,
   "id": "electrical-wedding",
   "metadata": {},
   "outputs": [
    {
     "name": "stdout",
     "output_type": "stream",
     "text": [
      "CLUSTERS: 0\n",
      "CLUSTERS: 1\n",
      "time: 15.6 ms\n"
     ]
    }
   ],
   "source": [
    "count_list = []\n",
    "for i in range(n):\n",
    "    print(\"CLUSTERS:\",i)\n",
    "    cluster_idx = np.where(kmeans.labels_ == i)[0]\n",
    "    pcode_seq_cluster = [pcode_seq[i] for i in cluster_idx]\n",
    "    codes = [c for p in pcode_seq_cluster for c in p]\n",
    "    count_list.append(Counter(codes).most_common(10))"
   ]
  },
  {
   "cell_type": "code",
   "execution_count": 43,
   "id": "duplicate-harbor",
   "metadata": {},
   "outputs": [
    {
     "data": {
      "text/plain": [
       "[('D_314.01', 1328),\n",
       " ('P_99213', 1103),\n",
       " ('M_RISPERIDONE', 968),\n",
       " ('D_296.90', 833),\n",
       " ('M_DEXTROAMPHETAMINE-AMPHETAMINE', 803),\n",
       " ('M_METHYLPHENIDATE ER', 682),\n",
       " ('M_ABILIFY', 676),\n",
       " ('P_99214', 667),\n",
       " ('M_CLONIDINE HCL', 583),\n",
       " ('M_VYVANSE', 485)]"
      ]
     },
     "execution_count": 43,
     "metadata": {},
     "output_type": "execute_result"
    },
    {
     "name": "stdout",
     "output_type": "stream",
     "text": [
      "time: 4.18 ms\n"
     ]
    }
   ],
   "source": [
    "count_list[0]"
   ]
  },
  {
   "cell_type": "code",
   "execution_count": 44,
   "id": "stuffed-stable",
   "metadata": {},
   "outputs": [
    {
     "data": {
      "text/plain": [
       "[('P_99213', 1495),\n",
       " ('P_450', 929),\n",
       " ('P_99214', 856),\n",
       " ('D_311', 592),\n",
       " ('D_296.90', 545),\n",
       " ('M_FLUOXETINE HCL', 494),\n",
       " ('D_296.33', 421),\n",
       " ('P_D1208', 408),\n",
       " ('M_RISPERIDONE', 397),\n",
       " ('P_99283', 392)]"
      ]
     },
     "execution_count": 44,
     "metadata": {},
     "output_type": "execute_result"
    },
    {
     "name": "stdout",
     "output_type": "stream",
     "text": [
      "time: 3.8 ms\n"
     ]
    }
   ],
   "source": [
    "count_list[1]"
   ]
  },
  {
   "cell_type": "code",
   "execution_count": null,
   "id": "theoretical-nightmare",
   "metadata": {},
   "outputs": [],
   "source": []
  },
  {
   "cell_type": "code",
   "execution_count": null,
   "id": "permanent-transport",
   "metadata": {},
   "outputs": [],
   "source": []
  },
  {
   "cell_type": "code",
   "execution_count": 18,
   "id": "surface-premises",
   "metadata": {},
   "outputs": [
    {
     "name": "stdout",
     "output_type": "stream",
     "text": [
      "time: 2.36 ms\n"
     ]
    }
   ],
   "source": [
    "def generate_plot(Embedding, labels, color_dic, legend, title):\n",
    "    tsne_model = TSNE(n_components=2, init='pca', random_state=23)\n",
    "    new_values = tsne_model.fit_transform(Embedding)\n",
    "    \n",
    "    x = []\n",
    "    y = []\n",
    "    for value in new_values:\n",
    "        x.append(value[0])\n",
    "        y.append(value[1])\n",
    "        \n",
    "    for i in range(len(x)):\n",
    "        plt.scatter(x[i],y[i], color = color_dic[labels[i]], alpha=0.4)\n",
    "    for i in range(len(color_dic)):\n",
    "        plt.scatter(0,0, color=color_dic[i], label=legend[i], alpha=0.4)\n",
    "    plt.legend()\n",
    "    \n",
    "    plt.xticks([])\n",
    "    plt.yticks([])\n",
    "    plt.savefig(title)\n",
    "    plt.show()"
   ]
  },
  {
   "cell_type": "code",
   "execution_count": 19,
   "id": "satisfied-ability",
   "metadata": {},
   "outputs": [
    {
     "data": {
      "image/png": "[encoded data removed]",
      "text/plain": [
       "<Figure size 432x288 with 1 Axes>"
      ]
     },
     "metadata": {},
     "output_type": "display_data"
    },
    {
     "name": "stdout",
     "output_type": "stream",
     "text": [
      "time: 30.3 s\n"
     ]
    }
   ],
   "source": [
    "# color_dic = {0:\"y\", 1:\"g\", 2:\"b\", 3:\"r\",4:\"black\"}\n",
    "# legend = [\"1\", \"2\", \"3\", \"4\",\"5\"]\n",
    "\n",
    "color_dic = {0:\"y\", 1:\"g\"}\n",
    "legend = [\"1\", \"2\"]\n",
    "\n",
    "generate_plot(TMAE_Embedding[idx], kmeans.labels_, color_dic, legend, title=\"depression_clusters\")"
   ]
  },
  {
   "cell_type": "code",
   "execution_count": null,
   "id": "smoking-flower",
   "metadata": {},
   "outputs": [],
   "source": []
  },
  {
   "cell_type": "code",
   "execution_count": null,
   "id": "concrete-orchestra",
   "metadata": {},
   "outputs": [],
   "source": [
    "                                    "
   ]
  },
  {
   "cell_type": "code",
   "execution_count": null,
   "id": "casual-external",
   "metadata": {},
   "outputs": [],
   "source": []
  },
  {
   "cell_type": "code",
   "execution_count": null,
   "id": "fluid-forwarding",
   "metadata": {},
   "outputs": [],
   "source": []
  },
  {
   "cell_type": "code",
   "execution_count": null,
   "id": "operational-devices",
   "metadata": {},
   "outputs": [],
   "source": []
  },
  {
   "cell_type": "code",
   "execution_count": null,
   "id": "preceding-stanley",
   "metadata": {},
   "outputs": [],
   "source": [
    "# diag2cat = pickle.load(open(\"../DATA/CCS/diag2cat\",\"rb\"))\n",
    "\n",
    "# ccs_seq_2013 = []\n",
    "# for p in code_seq_2013:\n",
    "#     p_ccs = []\n",
    "#     for v in p:\n",
    "#         v_ccs = []\n",
    "#         for c in v:\n",
    "#             if c in diag2cat:\n",
    "#                 new_c = diag2cat[c]\n",
    "#                 v_ccs.append(new_c)\n",
    "#         p_ccs.extend(list(set(v_ccs)))\n",
    "#     ccs_seq_2013.append(p_ccs)\n",
    "    \n",
    "# def select_diag(code, code_seq, freq=1):\n",
    "#     idx_seq = []\n",
    "#     for i, p_code in enumerate(code_seq):\n",
    "#         if code in p_code and Counter(p_code)[code]>=freq:\n",
    "#             idx_seq.append(i)\n",
    "#     return idx_seq\n",
    "\n",
    "# idx = select_diag(\"49\", ccs_seq_2013, freq=1)\n",
    "# len(idx)\n",
    "\n",
    "# d1_idx = select_diag(\"128\", ccs_seq_2013, freq=3)[:1000]\n",
    "# len(d1_idx)"
   ]
  },
  {
   "cell_type": "code",
   "execution_count": null,
   "id": "exciting-million",
   "metadata": {},
   "outputs": [],
   "source": []
  }
 ],
 "metadata": {
  "kernelspec": {
   "display_name": "Python 3",
   "language": "python",
   "name": "python3"
  },
  "language_info": {
   "codemirror_mode": {
    "name": "ipython",
    "version": 3
   },
   "file_extension": ".py",
   "mimetype": "text/x-python",
   "name": "python",
   "nbconvert_exporter": "python",
   "pygments_lexer": "ipython3",
   "version": "3.7.9"
  }
 },
 "nbformat": 4,
 "nbformat_minor": 5
}
