{
 "cells": [
  {
   "cell_type": "code",
   "execution_count": 1,
   "id": "supreme-calendar",
   "metadata": {},
   "outputs": [
    {
     "name": "stdout",
     "output_type": "stream",
     "text": [
      "time: 980 µs\n"
     ]
    }
   ],
   "source": [
    "%load_ext autotime"
   ]
  },
  {
   "cell_type": "code",
   "execution_count": 2,
   "id": "surrounded-empty",
   "metadata": {},
   "outputs": [
    {
     "name": "stdout",
     "output_type": "stream",
     "text": [
      "time: 4.79 s\n"
     ]
    }
   ],
   "source": [
    "import numpy as np\n",
    "import _pickle as pickle\n",
    "import seaborn as sns\n",
    "import matplotlib.pylab as plt\n",
    "from collections import Counter\n",
    "from sklearn.manifold import TSNE"
   ]
  },
  {
   "cell_type": "code",
   "execution_count": 3,
   "id": "dimensional-yesterday",
   "metadata": {},
   "outputs": [
    {
     "name": "stdout",
     "output_type": "stream",
     "text": [
      "time: 41.5 ms\n"
     ]
    }
   ],
   "source": [
    "age_seq = pickle.load(open(\"../../DATA/age_seq\",\"rb\"))\n",
    "sex_seq = pickle.load(open(\"../../DATA/sex_seq\",\"rb\"))"
   ]
  },
  {
   "cell_type": "code",
   "execution_count": 4,
   "id": "laden-going",
   "metadata": {},
   "outputs": [
    {
     "name": "stdout",
     "output_type": "stream",
     "text": [
      "time: 14.4 s\n"
     ]
    }
   ],
   "source": [
    "code_seq_2013 = pickle.load(open(\"../../DATA/code_seq_2013\",\"rb\"))\n",
    "cost_seq_2013 = pickle.load(open(\"../../DATA/cost_seq_2013\",\"rb\"))\n",
    "date_seq_2013 = pickle.load(open(\"../../DATA/date_seq_2013\",\"rb\"))\n",
    "util_seq_2013 = pickle.load(open(\"../../DATA/util_seq_2013\",\"rb\"))"
   ]
  },
  {
   "cell_type": "code",
   "execution_count": 5,
   "id": "tender-procurement",
   "metadata": {},
   "outputs": [
    {
     "name": "stdout",
     "output_type": "stream",
     "text": [
      "time: 18.4 s\n"
     ]
    }
   ],
   "source": [
    "code_seq_2014 = pickle.load(open(\"../../DATA/code_seq_2014\",\"rb\"))\n",
    "cost_seq_2014 = pickle.load(open(\"../../DATA/cost_seq_2014\",\"rb\"))\n",
    "date_seq_2014 = pickle.load(open(\"../../DATA/date_seq_2014\",\"rb\"))\n",
    "util_seq_2014 = pickle.load(open(\"../../DATA/util_seq_2014\",\"rb\"))"
   ]
  },
  {
   "cell_type": "code",
   "execution_count": null,
   "id": "tired-place",
   "metadata": {},
   "outputs": [],
   "source": []
  },
  {
   "cell_type": "code",
   "execution_count": 6,
   "id": "angry-interstate",
   "metadata": {},
   "outputs": [
    {
     "name": "stdout",
     "output_type": "stream",
     "text": [
      "time: 253 ms\n"
     ]
    }
   ],
   "source": [
    "TMAE_Embedding = pickle.load(open(\"../../MODELS/TMAE/Embeddings/TMAE_Embedding_100\",\"rb\"))"
   ]
  },
  {
   "cell_type": "code",
   "execution_count": 7,
   "id": "innovative-instruction",
   "metadata": {},
   "outputs": [
    {
     "name": "stdout",
     "output_type": "stream",
     "text": [
      "time: 3.34 ms\n"
     ]
    }
   ],
   "source": [
    "from sklearn.metrics import silhouette_score\n",
    "\n",
    "def calculate_WSS(points, kmax):\n",
    "    sse = []\n",
    "    for k in range(1, kmax+1):\n",
    "        kmeans = KMeans(n_clusters = k).fit(points)\n",
    "        centroids = kmeans.cluster_centers_\n",
    "        pred_clusters = kmeans.predict(points)\n",
    "        curr_sse = 0\n",
    "        # calculate square of Euclidean distance of each point from its cluster center and add to current WSS\n",
    "        for i in range(len(points)):\n",
    "            curr_center = centroids[pred_clusters[i]]\n",
    "            curr_sse += (points[i, 0] - curr_center[0]) ** 2 + (points[i, 1] - curr_center[1]) ** 2\n",
    "      \n",
    "        sse.append(curr_sse)\n",
    "    return sse\n",
    "\n",
    "def calculate_SIL(x, kmax = 10):\n",
    "    sil = []\n",
    "    # dissimilarity would not be defined for a single cluster, thus, minimum number of clusters should be 2\n",
    "    for k in range(2, kmax+1):\n",
    "        kmeans = KMeans(n_clusters = k).fit(x)\n",
    "        labels = kmeans.labels_\n",
    "        sil.append(silhouette_score(x, labels, metric = 'euclidean'))\n",
    "    return sil"
   ]
  },
  {
   "cell_type": "code",
   "execution_count": 8,
   "id": "excellent-tractor",
   "metadata": {},
   "outputs": [
    {
     "name": "stdout",
     "output_type": "stream",
     "text": [
      "time: 120 ms\n"
     ]
    }
   ],
   "source": [
    "from sklearn.cluster import KMeans\n",
    "from collections import Counter"
   ]
  },
  {
   "cell_type": "code",
   "execution_count": 9,
   "id": "passing-india",
   "metadata": {},
   "outputs": [
    {
     "name": "stdout",
     "output_type": "stream",
     "text": [
      "time: 3.16 s\n"
     ]
    }
   ],
   "source": [
    "icd3_seq = []\n",
    "\n",
    "for p in code_seq_2013:\n",
    "    p_codes = []\n",
    "    for v in p:\n",
    "        new_v = []\n",
    "        for c in v:\n",
    "            c = c[:5]\n",
    "            new_v.append(c)\n",
    "        p_codes.extend(list(set(new_v)))\n",
    "    icd3_seq.append(p_codes)"
   ]
  },
  {
   "cell_type": "code",
   "execution_count": 10,
   "id": "possible-monte",
   "metadata": {},
   "outputs": [
    {
     "name": "stdout",
     "output_type": "stream",
     "text": [
      "time: 1.06 ms\n"
     ]
    }
   ],
   "source": [
    "def select_diag(icd3_code, freq=1):\n",
    "    idx_seq = []\n",
    "    for i, p_code in enumerate(icd3_seq):\n",
    "        if icd3_code in p_code and Counter(p_code)[icd3_code]>=freq:\n",
    "            idx_seq.append(i)\n",
    "    return idx_seq"
   ]
  },
  {
   "cell_type": "code",
   "execution_count": null,
   "id": "middle-abuse",
   "metadata": {},
   "outputs": [],
   "source": []
  },
  {
   "cell_type": "code",
   "execution_count": 11,
   "id": "pharmaceutical-oliver",
   "metadata": {},
   "outputs": [
    {
     "data": {
      "text/plain": [
       "509"
      ]
     },
     "execution_count": 11,
     "metadata": {},
     "output_type": "execute_result"
    },
    {
     "name": "stdout",
     "output_type": "stream",
     "text": [
      "time: 244 ms\n"
     ]
    }
   ],
   "source": [
    "idx = select_diag(\"D_299\", freq=1)\n",
    "len(idx)"
   ]
  },
  {
   "cell_type": "code",
   "execution_count": null,
   "id": "tropical-tulsa",
   "metadata": {},
   "outputs": [],
   "source": []
  },
  {
   "cell_type": "code",
   "execution_count": 23,
   "id": "lesbian-military",
   "metadata": {},
   "outputs": [
    {
     "data": {
      "image/png": "[encoded data removed]",
      "text/plain": [
       "<Figure size 432x288 with 1 Axes>"
      ]
     },
     "metadata": {
      "needs_background": "light"
     },
     "output_type": "display_data"
    },
    {
     "name": "stdout",
     "output_type": "stream",
     "text": [
      "time: 1.25 s\n"
     ]
    }
   ],
   "source": [
    "kmax = 8\n",
    "points = TMAE_Embedding[idx]\n",
    "sse = calculate_WSS(points, kmax=kmax)\n",
    "plt.plot(range(1, kmax+1), sse)\n",
    "plt.xlabel(\"# of clusters\")\n",
    "plt.ylabel(\"within-cluster sum of squares (WWS)\")\n",
    "plt.savefig(\"autotis\", dpi=300)"
   ]
  },
  {
   "cell_type": "code",
   "execution_count": null,
   "id": "divine-theology",
   "metadata": {},
   "outputs": [],
   "source": []
  },
  {
   "cell_type": "code",
   "execution_count": null,
   "id": "sitting-pottery",
   "metadata": {},
   "outputs": [],
   "source": []
  },
  {
   "cell_type": "code",
   "execution_count": 14,
   "id": "turkish-albuquerque",
   "metadata": {},
   "outputs": [
    {
     "name": "stdout",
     "output_type": "stream",
     "text": [
      "time: 240 ms\n"
     ]
    }
   ],
   "source": [
    "from sklearn.cluster import KMeans\n",
    "\n",
    "n=3\n",
    "kmeans = KMeans(n_clusters=n, random_state=0).fit(TMAE_Embedding[idx])\n",
    "group_id = {i: np.where(kmeans.labels_ == i)[0] for i in range(n)}"
   ]
  },
  {
   "cell_type": "code",
   "execution_count": 15,
   "id": "logical-genius",
   "metadata": {},
   "outputs": [
    {
     "data": {
      "text/plain": [
       "Counter({0: 150, 2: 133, 1: 226})"
      ]
     },
     "execution_count": 15,
     "metadata": {},
     "output_type": "execute_result"
    },
    {
     "name": "stdout",
     "output_type": "stream",
     "text": [
      "time: 50.2 ms\n"
     ]
    }
   ],
   "source": [
    "Counter(kmeans.labels_)"
   ]
  },
  {
   "cell_type": "code",
   "execution_count": 16,
   "id": "appropriate-stroke",
   "metadata": {},
   "outputs": [
    {
     "name": "stdout",
     "output_type": "stream",
     "text": [
      "time: 3.84 ms\n"
     ]
    }
   ],
   "source": [
    "def cluster_output(seq_2013, seq_2014, k=2, mean_flag=False):\n",
    "    for i in range(k):\n",
    "        print(\"CLUSTERS:\",i)\n",
    "        cluster_idx = np.where(kmeans.labels_ == i)[0]\n",
    "        if mean_flag: \n",
    "            print(\"2013:\", np.mean(seq_2013[cluster_idx]))\n",
    "            print(\"2014:\", np.mean(seq_2014[cluster_idx]))\n",
    "        else:\n",
    "            print(\"2013:\", np.median(seq_2013[cluster_idx]))\n",
    "            print(\"2014:\", np.median(seq_2014[cluster_idx]))\n",
    "        print()"
   ]
  },
  {
   "cell_type": "code",
   "execution_count": 17,
   "id": "accomplished-moldova",
   "metadata": {},
   "outputs": [
    {
     "name": "stdout",
     "output_type": "stream",
     "text": [
      "time: 4.84 ms\n"
     ]
    }
   ],
   "source": [
    "def generate_cost_seqs(cost_seq, util_seq):\n",
    "    RX_cost, IP_cost, OP_cost = [],[],[]\n",
    "    for p_cost, p_util in zip(cost_seq, util_seq):\n",
    "        RX_, IP_, OP_ = 0, 0, 0\n",
    "        for cost, util in zip(p_cost, p_util):\n",
    "            if \"RX\" in util:\n",
    "                RX_ += cost\n",
    "            elif \"IP\" in util:\n",
    "                IP_ += cost\n",
    "            else:\n",
    "                OP_ += cost\n",
    "        RX_cost.append(RX_)\n",
    "        IP_cost.append(IP_)\n",
    "        OP_cost.append(OP_)\n",
    "    return np.array(RX_cost), np.array(IP_cost), np.array(OP_cost), np.array([sum(k) for k in cost_seq])\n",
    "\n",
    "def generate_util_seqs(util_seq):\n",
    "    RX_visit, IP_visit, OP_visit = [],[],[]\n",
    "    for p_util in util_seq:\n",
    "        RX_, IP_, OP_ = 0, 0, 0\n",
    "        for util in p_util:\n",
    "            if \"RX\" in util:\n",
    "                RX_ += 1\n",
    "            elif \"IP\" in util:\n",
    "                IP_ += 1\n",
    "            else:\n",
    "                OP_ += 1\n",
    "        RX_visit.append(RX_)\n",
    "        IP_visit.append(IP_)\n",
    "        OP_visit.append(OP_)\n",
    "    return np.array(RX_visit), np.array(IP_visit), np.array(OP_visit)\n",
    "\n"
   ]
  },
  {
   "cell_type": "code",
   "execution_count": 18,
   "id": "related-nature",
   "metadata": {},
   "outputs": [
    {
     "name": "stdout",
     "output_type": "stream",
     "text": [
      "time: 2.89 s\n"
     ]
    }
   ],
   "source": [
    "RX_2013, IP_2013, OP_2013, total_2013 = generate_cost_seqs(cost_seq_2013, util_seq_2013)\n",
    "RX_2014, IP_2014, OP_2014, total_2014 = generate_cost_seqs(cost_seq_2014, util_seq_2014)"
   ]
  },
  {
   "cell_type": "code",
   "execution_count": 19,
   "id": "quality-birthday",
   "metadata": {},
   "outputs": [
    {
     "name": "stdout",
     "output_type": "stream",
     "text": [
      "CLUSTERS: 0\n",
      "2013: 86.80000000000001\n",
      "2014: 115.345\n",
      "\n",
      "CLUSTERS: 1\n",
      "2013: 38.155\n",
      "2014: 32.085\n",
      "\n",
      "CLUSTERS: 2\n",
      "2013: 1139.58\n",
      "2014: 1168.44\n",
      "\n",
      "time: 5.65 ms\n"
     ]
    }
   ],
   "source": [
    "cluster_output(RX_2013[idx], RX_2014[idx], k=n)"
   ]
  },
  {
   "cell_type": "code",
   "execution_count": 20,
   "id": "overall-journalism",
   "metadata": {},
   "outputs": [
    {
     "name": "stdout",
     "output_type": "stream",
     "text": [
      "CLUSTERS: 0\n",
      "2013: 0.0\n",
      "2014: 0.0\n",
      "\n",
      "CLUSTERS: 1\n",
      "2013: 0.0\n",
      "2014: 0.0\n",
      "\n",
      "CLUSTERS: 2\n",
      "2013: 0.0\n",
      "2014: 0.0\n",
      "\n",
      "time: 4.04 ms\n"
     ]
    }
   ],
   "source": [
    "cluster_output(IP_2013[idx], IP_2014[idx], k=n)"
   ]
  },
  {
   "cell_type": "code",
   "execution_count": 21,
   "id": "latin-penalty",
   "metadata": {},
   "outputs": [
    {
     "name": "stdout",
     "output_type": "stream",
     "text": [
      "CLUSTERS: 0\n",
      "2013: 1014.5550000000001\n",
      "2014: 537.46\n",
      "\n",
      "CLUSTERS: 1\n",
      "2013: 1071.775\n",
      "2014: 849.1949999999999\n",
      "\n",
      "CLUSTERS: 2\n",
      "2013: 640.52\n",
      "2014: 425.38\n",
      "\n",
      "time: 3.4 ms\n"
     ]
    }
   ],
   "source": [
    "cluster_output(OP_2013[idx], OP_2014[idx], k=n)"
   ]
  },
  {
   "cell_type": "code",
   "execution_count": 22,
   "id": "pleasant-pregnancy",
   "metadata": {},
   "outputs": [
    {
     "name": "stdout",
     "output_type": "stream",
     "text": [
      "CLUSTERS: 0\n",
      "2013: 1355.89\n",
      "2014: 884.705\n",
      "\n",
      "CLUSTERS: 1\n",
      "2013: 1221.0900000000001\n",
      "2014: 1071.1650000000002\n",
      "\n",
      "CLUSTERS: 2\n",
      "2013: 2087.6699999999996\n",
      "2014: 1972.36\n",
      "\n",
      "time: 11.8 ms\n"
     ]
    }
   ],
   "source": [
    "cluster_output(total_2013[idx], total_2014[idx], k=n)"
   ]
  },
  {
   "cell_type": "code",
   "execution_count": null,
   "id": "altered-jacob",
   "metadata": {},
   "outputs": [],
   "source": []
  },
  {
   "cell_type": "code",
   "execution_count": null,
   "id": "accepted-stomach",
   "metadata": {},
   "outputs": [],
   "source": []
  },
  {
   "cell_type": "code",
   "execution_count": 23,
   "id": "small-statement",
   "metadata": {},
   "outputs": [
    {
     "name": "stdout",
     "output_type": "stream",
     "text": [
      "time: 756 ms\n"
     ]
    }
   ],
   "source": [
    "RX_2013, IP_2013, OP_2013 = generate_util_seqs(util_seq_2013)\n",
    "RX_2014, IP_2014, OP_2014 = generate_util_seqs(util_seq_2014)"
   ]
  },
  {
   "cell_type": "code",
   "execution_count": 24,
   "id": "substantial-concentration",
   "metadata": {},
   "outputs": [
    {
     "name": "stdout",
     "output_type": "stream",
     "text": [
      "CLUSTERS: 0\n",
      "2013: 5.52\n",
      "2014: 7.026666666666666\n",
      "\n",
      "CLUSTERS: 1\n",
      "2013: 3.1194690265486726\n",
      "2014: 3.730088495575221\n",
      "\n",
      "CLUSTERS: 2\n",
      "2013: 10.849624060150376\n",
      "2014: 12.075187969924812\n",
      "\n",
      "time: 26 ms\n"
     ]
    }
   ],
   "source": [
    "cluster_output(RX_2013[idx], RX_2014[idx], k=n, mean_flag=True)"
   ]
  },
  {
   "cell_type": "code",
   "execution_count": 25,
   "id": "blocked-learning",
   "metadata": {},
   "outputs": [
    {
     "name": "stdout",
     "output_type": "stream",
     "text": [
      "CLUSTERS: 0\n",
      "2013: 0.02\n",
      "2014: 0.03333333333333333\n",
      "\n",
      "CLUSTERS: 1\n",
      "2013: 0.008849557522123894\n",
      "2014: 0.008849557522123894\n",
      "\n",
      "CLUSTERS: 2\n",
      "2013: 0.045112781954887216\n",
      "2014: 0.007518796992481203\n",
      "\n",
      "time: 13 ms\n"
     ]
    }
   ],
   "source": [
    "cluster_output(IP_2013[idx], IP_2014[idx], k=n, mean_flag=True)"
   ]
  },
  {
   "cell_type": "code",
   "execution_count": 26,
   "id": "emotional-march",
   "metadata": {},
   "outputs": [
    {
     "name": "stdout",
     "output_type": "stream",
     "text": [
      "CLUSTERS: 0\n",
      "2013: 9.326666666666666\n",
      "2014: 9.566666666666666\n",
      "\n",
      "CLUSTERS: 1\n",
      "2013: 12.216814159292035\n",
      "2014: 13.420353982300885\n",
      "\n",
      "CLUSTERS: 2\n",
      "2013: 8.105263157894736\n",
      "2014: 6.706766917293233\n",
      "\n",
      "time: 42.4 ms\n"
     ]
    }
   ],
   "source": [
    "cluster_output(OP_2013[idx], OP_2014[idx], k=n, mean_flag=True)"
   ]
  },
  {
   "cell_type": "code",
   "execution_count": null,
   "id": "emerging-template",
   "metadata": {},
   "outputs": [],
   "source": []
  },
  {
   "cell_type": "code",
   "execution_count": 27,
   "id": "complex-speaker",
   "metadata": {},
   "outputs": [
    {
     "name": "stdout",
     "output_type": "stream",
     "text": [
      "CLUSTERS: 0\n",
      "age 9.946666666666667\n",
      "Counter({'M': 121, 'F': 29})\n",
      "[0.8066666666666666, 0.19333333333333333]\n",
      "\n",
      "CLUSTERS: 1\n",
      "age 5.761061946902655\n",
      "Counter({'M': 178, 'F': 48})\n",
      "[0.7876106194690266, 0.21238938053097345]\n",
      "\n",
      "CLUSTERS: 2\n",
      "age 10.443609022556391\n",
      "Counter({'M': 109, 'F': 24})\n",
      "[0.18045112781954886, 0.8195488721804511]\n",
      "\n",
      "time: 224 ms\n"
     ]
    }
   ],
   "source": [
    "for i in range(n):\n",
    "    print(\"CLUSTERS:\",i)\n",
    "    cluster_idx = np.where(kmeans.labels_ == i)[0]\n",
    "    print(\"age\", np.mean(np.array(age_seq)[idx][cluster_idx]))\n",
    "    \n",
    "    print(Counter(np.array(sex_seq)[idx][cluster_idx]))\n",
    "    print([i/len(cluster_idx) for i in Counter(np.array(sex_seq)[idx][cluster_idx]).values()])\n",
    "    print()\n",
    "\n",
    "\n"
   ]
  },
  {
   "cell_type": "code",
   "execution_count": null,
   "id": "marine-experiment",
   "metadata": {},
   "outputs": [],
   "source": []
  },
  {
   "cell_type": "code",
   "execution_count": 28,
   "id": "broadband-wesley",
   "metadata": {},
   "outputs": [
    {
     "data": {
      "text/plain": [
       "509"
      ]
     },
     "execution_count": 28,
     "metadata": {},
     "output_type": "execute_result"
    },
    {
     "name": "stdout",
     "output_type": "stream",
     "text": [
      "time: 1.9 s\n"
     ]
    }
   ],
   "source": [
    "pcode_seq = []\n",
    "\n",
    "for p in code_seq_2013:\n",
    "    pcode = []\n",
    "    for v in p:\n",
    "        for c in v:\n",
    "            pcode.append(c)\n",
    "    pcode_seq.append(pcode)\n",
    "    \n",
    "pcode_seq = [pcode_seq[i] for i in idx]\n",
    "len(pcode_seq)"
   ]
  },
  {
   "cell_type": "code",
   "execution_count": 29,
   "id": "electrical-wedding",
   "metadata": {},
   "outputs": [
    {
     "name": "stdout",
     "output_type": "stream",
     "text": [
      "CLUSTERS: 0\n",
      "CLUSTERS: 1\n",
      "CLUSTERS: 2\n",
      "time: 12.1 ms\n"
     ]
    }
   ],
   "source": [
    "count_list = []\n",
    "for i in range(n):\n",
    "    print(\"CLUSTERS:\",i)\n",
    "    cluster_idx = np.where(kmeans.labels_ == i)[0]\n",
    "    pcode_seq_cluster = [pcode_seq[i] for i in cluster_idx]\n",
    "    codes = [c for p in pcode_seq_cluster for c in p]\n",
    "    count_list.append(Counter(codes).most_common(10))"
   ]
  },
  {
   "cell_type": "code",
   "execution_count": 30,
   "id": "duplicate-harbor",
   "metadata": {},
   "outputs": [
    {
     "data": {
      "text/plain": [
       "[('P_99213', 213),\n",
       " ('D_299.00', 158),\n",
       " ('P_510', 154),\n",
       " ('P_99214', 142),\n",
       " ('P_D1208', 125),\n",
       " ('P_D1120', 111),\n",
       " ('P_D0120', 101),\n",
       " ('D_V20.2', 96),\n",
       " ('D_299.80', 95),\n",
       " ('D_314.01', 62)]"
      ]
     },
     "execution_count": 30,
     "metadata": {},
     "output_type": "execute_result"
    },
    {
     "name": "stdout",
     "output_type": "stream",
     "text": [
      "time: 6.31 ms\n"
     ]
    }
   ],
   "source": [
    "count_list[0]"
   ]
  },
  {
   "cell_type": "code",
   "execution_count": 31,
   "id": "stuffed-stable",
   "metadata": {},
   "outputs": [
    {
     "data": {
      "text/plain": [
       "[('D_299.00', 860),\n",
       " ('P_440', 610),\n",
       " ('D_V57.3', 567),\n",
       " ('P_99213', 383),\n",
       " ('D_315.32', 292),\n",
       " ('P_510', 235),\n",
       " ('P_99214', 175),\n",
       " ('D_V20.2', 153),\n",
       " ('P_450', 149),\n",
       " ('P_430', 142)]"
      ]
     },
     "execution_count": 31,
     "metadata": {},
     "output_type": "execute_result"
    },
    {
     "name": "stdout",
     "output_type": "stream",
     "text": [
      "time: 9.22 ms\n"
     ]
    }
   ],
   "source": [
    "count_list[1]"
   ]
  },
  {
   "cell_type": "code",
   "execution_count": 32,
   "id": "theoretical-nightmare",
   "metadata": {},
   "outputs": [
    {
     "data": {
      "text/plain": [
       "[('P_99213', 291),\n",
       " ('D_314.01', 282),\n",
       " ('M_RISPERIDONE', 225),\n",
       " ('P_99214', 192),\n",
       " ('M_METHYLPHENIDATE ER', 170),\n",
       " ('M_DEXTROAMPHETAMINE-AMPHETAMINE', 153),\n",
       " ('M_CLONIDINE HCL', 145),\n",
       " ('D_299.80', 138),\n",
       " ('M_INTUNIV', 111),\n",
       " ('D_299.00', 99)]"
      ]
     },
     "execution_count": 32,
     "metadata": {},
     "output_type": "execute_result"
    },
    {
     "name": "stdout",
     "output_type": "stream",
     "text": [
      "time: 3.98 ms\n"
     ]
    }
   ],
   "source": [
    "count_list[2]"
   ]
  },
  {
   "cell_type": "code",
   "execution_count": null,
   "id": "permanent-transport",
   "metadata": {},
   "outputs": [],
   "source": []
  },
  {
   "cell_type": "code",
   "execution_count": 18,
   "id": "surface-premises",
   "metadata": {},
   "outputs": [
    {
     "name": "stdout",
     "output_type": "stream",
     "text": [
      "time: 3.89 ms\n"
     ]
    }
   ],
   "source": [
    "def generate_plot(Embedding, labels, color_dic, legend, title):\n",
    "    tsne_model = TSNE(n_components=2, init='pca', random_state=23)\n",
    "    new_values = tsne_model.fit_transform(Embedding)\n",
    "    \n",
    "    x = []\n",
    "    y = []\n",
    "    for value in new_values:\n",
    "        x.append(value[0])\n",
    "        y.append(value[1])\n",
    "        \n",
    "    for i in range(len(x)):\n",
    "        plt.scatter(x[i],y[i], color = color_dic[labels[i]], alpha=0.4)\n",
    "    for i in range(len(color_dic)):\n",
    "        plt.scatter(0,0, color=color_dic[i], label=legend[i], alpha=0.4)\n",
    "    plt.legend()\n",
    "    \n",
    "    plt.xticks([])\n",
    "    plt.yticks([])\n",
    "    plt.savefig(title)\n",
    "    plt.show()"
   ]
  },
  {
   "cell_type": "code",
   "execution_count": 20,
   "id": "satisfied-ability",
   "metadata": {},
   "outputs": [
    {
     "data": {
      "image/png": "[encoded data removed]",
      "text/plain": [
       "<Figure size 432x288 with 1 Axes>"
      ]
     },
     "metadata": {},
     "output_type": "display_data"
    },
    {
     "name": "stdout",
     "output_type": "stream",
     "text": [
      "time: 11.2 s\n"
     ]
    }
   ],
   "source": [
    "# color_dic = {0:\"y\", 1:\"g\", 2:\"b\", 3:\"r\",4:\"black\"}\n",
    "# legend = [\"1\", \"2\", \"3\", \"4\",\"5\"]\n",
    "\n",
    "color_dic = {0:\"y\", 1:\"g\", 2:\"b\"}\n",
    "legend = [\"1\", \"2\", \"3\"]\n",
    "\n",
    "generate_plot(TMAE_Embedding[idx], kmeans.labels_, color_dic, legend, title=\"autotis_clusters\")"
   ]
  },
  {
   "cell_type": "code",
   "execution_count": null,
   "id": "concrete-orchestra",
   "metadata": {},
   "outputs": [],
   "source": [
    "                                    "
   ]
  },
  {
   "cell_type": "code",
   "execution_count": null,
   "id": "casual-external",
   "metadata": {},
   "outputs": [],
   "source": []
  },
  {
   "cell_type": "code",
   "execution_count": null,
   "id": "fluid-forwarding",
   "metadata": {},
   "outputs": [],
   "source": []
  },
  {
   "cell_type": "code",
   "execution_count": null,
   "id": "operational-devices",
   "metadata": {},
   "outputs": [],
   "source": []
  },
  {
   "cell_type": "code",
   "execution_count": null,
   "id": "preceding-stanley",
   "metadata": {},
   "outputs": [],
   "source": [
    "# diag2cat = pickle.load(open(\"../DATA/CCS/diag2cat\",\"rb\"))\n",
    "\n",
    "# ccs_seq_2013 = []\n",
    "# for p in code_seq_2013:\n",
    "#     p_ccs = []\n",
    "#     for v in p:\n",
    "#         v_ccs = []\n",
    "#         for c in v:\n",
    "#             if c in diag2cat:\n",
    "#                 new_c = diag2cat[c]\n",
    "#                 v_ccs.append(new_c)\n",
    "#         p_ccs.extend(list(set(v_ccs)))\n",
    "#     ccs_seq_2013.append(p_ccs)\n",
    "    \n",
    "# def select_diag(code, code_seq, freq=1):\n",
    "#     idx_seq = []\n",
    "#     for i, p_code in enumerate(code_seq):\n",
    "#         if code in p_code and Counter(p_code)[code]>=freq:\n",
    "#             idx_seq.append(i)\n",
    "#     return idx_seq\n",
    "\n",
    "# idx = select_diag(\"49\", ccs_seq_2013, freq=1)\n",
    "# len(idx)\n",
    "\n",
    "# d1_idx = select_diag(\"128\", ccs_seq_2013, freq=3)[:1000]\n",
    "# len(d1_idx)"
   ]
  },
  {
   "cell_type": "code",
   "execution_count": null,
   "id": "exciting-million",
   "metadata": {},
   "outputs": [],
   "source": []
  }
 ],
 "metadata": {
  "kernelspec": {
   "display_name": "Python 3",
   "language": "python",
   "name": "python3"
  },
  "language_info": {
   "codemirror_mode": {
    "name": "ipython",
    "version": 3
   },
   "file_extension": ".py",
   "mimetype": "text/x-python",
   "name": "python",
   "nbconvert_exporter": "python",
   "pygments_lexer": "ipython3",
   "version": "3.7.9"
  }
 },
 "nbformat": 4,
 "nbformat_minor": 5
}
