{
 "cells": [
  {
   "cell_type": "code",
   "execution_count": 1,
   "id": "supreme-calendar",
   "metadata": {},
   "outputs": [
    {
     "name": "stdout",
     "output_type": "stream",
     "text": [
      "time: 1.44 ms\n"
     ]
    }
   ],
   "source": [
    "%load_ext autotime"
   ]
  },
  {
   "cell_type": "code",
   "execution_count": 2,
   "id": "surrounded-empty",
   "metadata": {},
   "outputs": [
    {
     "name": "stdout",
     "output_type": "stream",
     "text": [
      "time: 5.95 s\n"
     ]
    }
   ],
   "source": [
    "import numpy as np\n",
    "import _pickle as pickle\n",
    "import seaborn as sns\n",
    "import matplotlib.pylab as plt\n",
    "from collections import Counter\n",
    "from sklearn.manifold import TSNE"
   ]
  },
  {
   "cell_type": "code",
   "execution_count": 3,
   "id": "dimensional-yesterday",
   "metadata": {},
   "outputs": [
    {
     "name": "stdout",
     "output_type": "stream",
     "text": [
      "time: 41.1 ms\n"
     ]
    }
   ],
   "source": [
    "age_seq = pickle.load(open(\"../../DATA/age_seq\",\"rb\"))\n",
    "sex_seq = pickle.load(open(\"../../DATA/sex_seq\",\"rb\"))"
   ]
  },
  {
   "cell_type": "code",
   "execution_count": 4,
   "id": "laden-going",
   "metadata": {},
   "outputs": [
    {
     "name": "stdout",
     "output_type": "stream",
     "text": [
      "time: 13.7 s\n"
     ]
    }
   ],
   "source": [
    "code_seq_2013 = pickle.load(open(\"../../DATA/code_seq_2013\",\"rb\"))\n",
    "cost_seq_2013 = pickle.load(open(\"../../DATA/cost_seq_2013\",\"rb\"))\n",
    "date_seq_2013 = pickle.load(open(\"../../DATA/date_seq_2013\",\"rb\"))\n",
    "util_seq_2013 = pickle.load(open(\"../../DATA/util_seq_2013\",\"rb\"))"
   ]
  },
  {
   "cell_type": "code",
   "execution_count": 5,
   "id": "tender-procurement",
   "metadata": {},
   "outputs": [
    {
     "name": "stdout",
     "output_type": "stream",
     "text": [
      "time: 19.2 s\n"
     ]
    }
   ],
   "source": [
    "code_seq_2014 = pickle.load(open(\"../../DATA/code_seq_2014\",\"rb\"))\n",
    "cost_seq_2014 = pickle.load(open(\"../../DATA/cost_seq_2014\",\"rb\"))\n",
    "date_seq_2014 = pickle.load(open(\"../../DATA/date_seq_2014\",\"rb\"))\n",
    "util_seq_2014 = pickle.load(open(\"../../DATA/util_seq_2014\",\"rb\"))"
   ]
  },
  {
   "cell_type": "code",
   "execution_count": null,
   "id": "tired-place",
   "metadata": {},
   "outputs": [],
   "source": []
  },
  {
   "cell_type": "code",
   "execution_count": 6,
   "id": "angry-interstate",
   "metadata": {},
   "outputs": [
    {
     "name": "stdout",
     "output_type": "stream",
     "text": [
      "time: 139 ms\n"
     ]
    }
   ],
   "source": [
    "TMAE_Embedding = pickle.load(open(\"../../MODELS/TMAE/Embeddings/TMAE_Embedding_100\",\"rb\"))"
   ]
  },
  {
   "cell_type": "code",
   "execution_count": 7,
   "id": "innovative-instruction",
   "metadata": {},
   "outputs": [
    {
     "name": "stdout",
     "output_type": "stream",
     "text": [
      "time: 2.49 ms\n"
     ]
    }
   ],
   "source": [
    "from sklearn.metrics import silhouette_score\n",
    "\n",
    "def calculate_WSS(points, kmax):\n",
    "    sse = []\n",
    "    for k in range(1, kmax+1):\n",
    "        kmeans = KMeans(n_clusters = k).fit(points)\n",
    "        centroids = kmeans.cluster_centers_\n",
    "        pred_clusters = kmeans.predict(points)\n",
    "        curr_sse = 0\n",
    "        # calculate square of Euclidean distance of each point from its cluster center and add to current WSS\n",
    "        for i in range(len(points)):\n",
    "            curr_center = centroids[pred_clusters[i]]\n",
    "            curr_sse += (points[i, 0] - curr_center[0]) ** 2 + (points[i, 1] - curr_center[1]) ** 2\n",
    "      \n",
    "        sse.append(curr_sse)\n",
    "    return sse\n",
    "\n",
    "def calculate_SIL(x, kmax = 10):\n",
    "    sil = []\n",
    "    # dissimilarity would not be defined for a single cluster, thus, minimum number of clusters should be 2\n",
    "    for k in range(2, kmax+1):\n",
    "        kmeans = KMeans(n_clusters = k).fit(x)\n",
    "        labels = kmeans.labels_\n",
    "        sil.append(silhouette_score(x, labels, metric = 'euclidean'))\n",
    "    return sil"
   ]
  },
  {
   "cell_type": "code",
   "execution_count": 8,
   "id": "excellent-tractor",
   "metadata": {},
   "outputs": [
    {
     "name": "stdout",
     "output_type": "stream",
     "text": [
      "time: 106 ms\n"
     ]
    }
   ],
   "source": [
    "from sklearn.cluster import KMeans\n",
    "from collections import Counter"
   ]
  },
  {
   "cell_type": "code",
   "execution_count": 9,
   "id": "passing-india",
   "metadata": {},
   "outputs": [
    {
     "name": "stdout",
     "output_type": "stream",
     "text": [
      "time: 2.95 s\n"
     ]
    }
   ],
   "source": [
    "icd3_seq = []\n",
    "\n",
    "for p in code_seq_2013:\n",
    "    p_codes = []\n",
    "    for v in p:\n",
    "        new_v = []\n",
    "        for c in v:\n",
    "            c = c[:5]\n",
    "            new_v.append(c)\n",
    "        p_codes.extend(list(set(new_v)))\n",
    "    icd3_seq.append(p_codes)"
   ]
  },
  {
   "cell_type": "code",
   "execution_count": 10,
   "id": "possible-monte",
   "metadata": {},
   "outputs": [
    {
     "name": "stdout",
     "output_type": "stream",
     "text": [
      "time: 813 µs\n"
     ]
    }
   ],
   "source": [
    "def select_diag(icd3_code, freq=1):\n",
    "    idx_seq = []\n",
    "    for i, p_code in enumerate(icd3_seq):\n",
    "        if icd3_code in p_code and Counter(p_code)[icd3_code]>=freq:\n",
    "            idx_seq.append(i)\n",
    "    return idx_seq"
   ]
  },
  {
   "cell_type": "code",
   "execution_count": null,
   "id": "middle-abuse",
   "metadata": {},
   "outputs": [],
   "source": []
  },
  {
   "cell_type": "code",
   "execution_count": 11,
   "id": "pharmaceutical-oliver",
   "metadata": {},
   "outputs": [
    {
     "data": {
      "text/plain": [
       "337"
      ]
     },
     "execution_count": 11,
     "metadata": {},
     "output_type": "execute_result"
    },
    {
     "name": "stdout",
     "output_type": "stream",
     "text": [
      "time: 189 ms\n"
     ]
    }
   ],
   "source": [
    "idx = select_diag(\"D_250\", freq=1)\n",
    "len(idx)"
   ]
  },
  {
   "cell_type": "code",
   "execution_count": null,
   "id": "tropical-tulsa",
   "metadata": {},
   "outputs": [],
   "source": []
  },
  {
   "cell_type": "code",
   "execution_count": 42,
   "id": "lesbian-military",
   "metadata": {},
   "outputs": [
    {
     "data": {
      "image/png": "[encoded data removed]",
      "text/plain": [
       "<Figure size 432x288 with 1 Axes>"
      ]
     },
     "metadata": {
      "needs_background": "light"
     },
     "output_type": "display_data"
    },
    {
     "name": "stdout",
     "output_type": "stream",
     "text": [
      "time: 1.08 s\n"
     ]
    }
   ],
   "source": [
    "kmax = 8\n",
    "points = TMAE_Embedding[idx]\n",
    "sse = calculate_WSS(points, kmax=kmax)\n",
    "plt.plot(range(1, kmax+1), sse)\n",
    "plt.xlabel(\"# of clusters\")\n",
    "plt.ylabel(\"within-cluster sum of squares (WWS)\")\n",
    "plt.savefig(\"diabetes\", dpi=300)"
   ]
  },
  {
   "cell_type": "code",
   "execution_count": null,
   "id": "divine-theology",
   "metadata": {},
   "outputs": [],
   "source": []
  },
  {
   "cell_type": "code",
   "execution_count": null,
   "id": "sitting-pottery",
   "metadata": {},
   "outputs": [],
   "source": []
  },
  {
   "cell_type": "code",
   "execution_count": 26,
   "id": "turkish-albuquerque",
   "metadata": {},
   "outputs": [
    {
     "name": "stdout",
     "output_type": "stream",
     "text": [
      "time: 96.4 ms\n"
     ]
    }
   ],
   "source": [
    "from sklearn.cluster import KMeans\n",
    "\n",
    "n=4\n",
    "kmeans = KMeans(n_clusters=n, random_state=0).fit(TMAE_Embedding[idx])\n",
    "group_id = {i: np.where(kmeans.labels_ == i)[0] for i in range(n)}"
   ]
  },
  {
   "cell_type": "code",
   "execution_count": 27,
   "id": "logical-genius",
   "metadata": {},
   "outputs": [
    {
     "data": {
      "text/plain": [
       "Counter({2: 38, 0: 94, 3: 99, 1: 106})"
      ]
     },
     "execution_count": 27,
     "metadata": {},
     "output_type": "execute_result"
    },
    {
     "name": "stdout",
     "output_type": "stream",
     "text": [
      "time: 18.3 ms\n"
     ]
    }
   ],
   "source": [
    "Counter(kmeans.labels_)"
   ]
  },
  {
   "cell_type": "code",
   "execution_count": 28,
   "id": "appropriate-stroke",
   "metadata": {},
   "outputs": [
    {
     "name": "stdout",
     "output_type": "stream",
     "text": [
      "time: 1.5 ms\n"
     ]
    }
   ],
   "source": [
    "def cluster_output(seq_2013, seq_2014, k=2, mean_flag=False):\n",
    "    for i in range(k):\n",
    "        print(\"CLUSTERS:\",i)\n",
    "        cluster_idx = np.where(kmeans.labels_ == i)[0]\n",
    "        if mean_flag: \n",
    "            print(\"2013:\", np.mean(seq_2013[cluster_idx]))\n",
    "            print(\"2014:\", np.mean(seq_2014[cluster_idx]))\n",
    "        else:\n",
    "            print(\"2013:\", np.median(seq_2013[cluster_idx]))\n",
    "            print(\"2014:\", np.median(seq_2014[cluster_idx]))\n",
    "        print()"
   ]
  },
  {
   "cell_type": "code",
   "execution_count": 29,
   "id": "accomplished-moldova",
   "metadata": {},
   "outputs": [
    {
     "name": "stdout",
     "output_type": "stream",
     "text": [
      "time: 2.82 ms\n"
     ]
    }
   ],
   "source": [
    "def generate_cost_seqs(cost_seq, util_seq):\n",
    "    RX_cost, IP_cost, OP_cost = [],[],[]\n",
    "    for p_cost, p_util in zip(cost_seq, util_seq):\n",
    "        RX_, IP_, OP_ = 0, 0, 0\n",
    "        for cost, util in zip(p_cost, p_util):\n",
    "            if \"RX\" in util:\n",
    "                RX_ += cost\n",
    "            elif \"IP\" in util:\n",
    "                IP_ += cost\n",
    "            else:\n",
    "                OP_ += cost\n",
    "        RX_cost.append(RX_)\n",
    "        IP_cost.append(IP_)\n",
    "        OP_cost.append(OP_)\n",
    "    return np.array(RX_cost), np.array(IP_cost), np.array(OP_cost), np.array([sum(k) for k in cost_seq])\n",
    "\n",
    "def generate_util_seqs(util_seq):\n",
    "    RX_visit, IP_visit, OP_visit = [],[],[]\n",
    "    for p_util in util_seq:\n",
    "        RX_, IP_, OP_ = 0, 0, 0\n",
    "        for util in p_util:\n",
    "            if \"RX\" in util:\n",
    "                RX_ += 1\n",
    "            elif \"IP\" in util:\n",
    "                IP_ += 1\n",
    "            else:\n",
    "                OP_ += 1\n",
    "        RX_visit.append(RX_)\n",
    "        IP_visit.append(IP_)\n",
    "        OP_visit.append(OP_)\n",
    "    return np.array(RX_visit), np.array(IP_visit), np.array(OP_visit)\n",
    "\n"
   ]
  },
  {
   "cell_type": "code",
   "execution_count": 30,
   "id": "related-nature",
   "metadata": {},
   "outputs": [
    {
     "name": "stdout",
     "output_type": "stream",
     "text": [
      "time: 7.76 s\n"
     ]
    }
   ],
   "source": [
    "RX_2013, IP_2013, OP_2013, total_2013 = generate_cost_seqs(cost_seq_2013, util_seq_2013)\n",
    "RX_2014, IP_2014, OP_2014, total_2014 = generate_cost_seqs(cost_seq_2014, util_seq_2014)"
   ]
  },
  {
   "cell_type": "code",
   "execution_count": 24,
   "id": "quality-birthday",
   "metadata": {},
   "outputs": [
    {
     "name": "stdout",
     "output_type": "stream",
     "text": [
      "CLUSTERS: 0\n",
      "2013: 5512.574999999999\n",
      "2014: 6912.325\n",
      "\n",
      "CLUSTERS: 1\n",
      "2013: 104.32\n",
      "2014: 143.47\n",
      "\n",
      "CLUSTERS: 2\n",
      "2013: 242.49\n",
      "2014: 175.72\n",
      "\n",
      "CLUSTERS: 3\n",
      "2013: 3131.9799999999996\n",
      "2014: 5516.780000000001\n",
      "\n",
      "time: 1.86 ms\n"
     ]
    }
   ],
   "source": [
    "cluster_output(RX_2013[idx], RX_2014[idx], k=n)"
   ]
  },
  {
   "cell_type": "code",
   "execution_count": 25,
   "id": "overall-journalism",
   "metadata": {},
   "outputs": [
    {
     "name": "stdout",
     "output_type": "stream",
     "text": [
      "CLUSTERS: 0\n",
      "2013: 0.0\n",
      "2014: 0.0\n",
      "\n",
      "CLUSTERS: 1\n",
      "2013: 0.0\n",
      "2014: 0.0\n",
      "\n",
      "CLUSTERS: 2\n",
      "2013: 0.0\n",
      "2014: 0.0\n",
      "\n",
      "CLUSTERS: 3\n",
      "2013: 0.0\n",
      "2014: 0.0\n",
      "\n",
      "time: 2.2 ms\n"
     ]
    }
   ],
   "source": [
    "cluster_output(IP_2013[idx], IP_2014[idx], k=n)"
   ]
  },
  {
   "cell_type": "code",
   "execution_count": 26,
   "id": "latin-penalty",
   "metadata": {},
   "outputs": [
    {
     "name": "stdout",
     "output_type": "stream",
     "text": [
      "CLUSTERS: 0\n",
      "2013: 873.255\n",
      "2014: 881.825\n",
      "\n",
      "CLUSTERS: 1\n",
      "2013: 883.9449999999999\n",
      "2014: 576.0799999999999\n",
      "\n",
      "CLUSTERS: 2\n",
      "2013: 937.145\n",
      "2014: 548.875\n",
      "\n",
      "CLUSTERS: 3\n",
      "2013: 674.37\n",
      "2014: 705.97\n",
      "\n",
      "time: 2.46 ms\n"
     ]
    }
   ],
   "source": [
    "cluster_output(OP_2013[idx], OP_2014[idx], k=n)"
   ]
  },
  {
   "cell_type": "code",
   "execution_count": 27,
   "id": "pleasant-pregnancy",
   "metadata": {},
   "outputs": [
    {
     "name": "stdout",
     "output_type": "stream",
     "text": [
      "CLUSTERS: 0\n",
      "2013: 8150.07\n",
      "2014: 9328.599999999999\n",
      "\n",
      "CLUSTERS: 1\n",
      "2013: 1179.2399999999998\n",
      "2014: 913.3950000000002\n",
      "\n",
      "CLUSTERS: 2\n",
      "2013: 1653.835\n",
      "2014: 1001.0250000000001\n",
      "\n",
      "CLUSTERS: 3\n",
      "2013: 6006.07\n",
      "2014: 6676.349999999999\n",
      "\n",
      "time: 3.38 ms\n"
     ]
    }
   ],
   "source": [
    "cluster_output(total_2013[idx], total_2014[idx], k=n)"
   ]
  },
  {
   "cell_type": "code",
   "execution_count": null,
   "id": "altered-jacob",
   "metadata": {},
   "outputs": [],
   "source": []
  },
  {
   "cell_type": "code",
   "execution_count": null,
   "id": "accepted-stomach",
   "metadata": {},
   "outputs": [],
   "source": []
  },
  {
   "cell_type": "code",
   "execution_count": 28,
   "id": "small-statement",
   "metadata": {},
   "outputs": [
    {
     "name": "stdout",
     "output_type": "stream",
     "text": [
      "time: 1.99 s\n"
     ]
    }
   ],
   "source": [
    "RX_2013, IP_2013, OP_2013 = generate_util_seqs(util_seq_2013)\n",
    "RX_2014, IP_2014, OP_2014 = generate_util_seqs(util_seq_2014)"
   ]
  },
  {
   "cell_type": "code",
   "execution_count": 29,
   "id": "substantial-concentration",
   "metadata": {},
   "outputs": [
    {
     "name": "stdout",
     "output_type": "stream",
     "text": [
      "CLUSTERS: 0\n",
      "2013: 13.96808510638298\n",
      "2014: 18.30851063829787\n",
      "\n",
      "CLUSTERS: 1\n",
      "2013: 5.1415094339622645\n",
      "2014: 6.5\n",
      "\n",
      "CLUSTERS: 2\n",
      "2013: 8.736842105263158\n",
      "2014: 8.736842105263158\n",
      "\n",
      "CLUSTERS: 3\n",
      "2013: 14.535353535353535\n",
      "2014: 20.2020202020202\n",
      "\n",
      "time: 2.17 ms\n"
     ]
    }
   ],
   "source": [
    "cluster_output(RX_2013[idx], RX_2014[idx], k=n, mean_flag=True)"
   ]
  },
  {
   "cell_type": "code",
   "execution_count": 30,
   "id": "blocked-learning",
   "metadata": {},
   "outputs": [
    {
     "name": "stdout",
     "output_type": "stream",
     "text": [
      "CLUSTERS: 0\n",
      "2013: 0.2978723404255319\n",
      "2014: 0.2553191489361702\n",
      "\n",
      "CLUSTERS: 1\n",
      "2013: 0.05660377358490566\n",
      "2014: 0.04716981132075472\n",
      "\n",
      "CLUSTERS: 2\n",
      "2013: 0.10526315789473684\n",
      "2014: 0.23684210526315788\n",
      "\n",
      "CLUSTERS: 3\n",
      "2013: 0.36363636363636365\n",
      "2014: 0.08080808080808081\n",
      "\n",
      "time: 7.59 ms\n"
     ]
    }
   ],
   "source": [
    "cluster_output(IP_2013[idx], IP_2014[idx], k=n, mean_flag=True)"
   ]
  },
  {
   "cell_type": "code",
   "execution_count": 32,
   "id": "emotional-march",
   "metadata": {},
   "outputs": [
    {
     "name": "stdout",
     "output_type": "stream",
     "text": [
      "CLUSTERS: 0\n",
      "2013: 7.9361702127659575\n",
      "2014: 9.127659574468085\n",
      "\n",
      "CLUSTERS: 1\n",
      "2013: 9.462264150943396\n",
      "2014: 7.839622641509434\n",
      "\n",
      "CLUSTERS: 2\n",
      "2013: 7.552631578947368\n",
      "2014: 8.394736842105264\n",
      "\n",
      "CLUSTERS: 3\n",
      "2013: 7.616161616161616\n",
      "2014: 9.191919191919192\n",
      "\n",
      "time: 3.88 ms\n"
     ]
    }
   ],
   "source": [
    "cluster_output(OP_2013[idx], OP_2014[idx], k=n, mean_flag=True)"
   ]
  },
  {
   "cell_type": "code",
   "execution_count": null,
   "id": "emerging-template",
   "metadata": {},
   "outputs": [],
   "source": []
  },
  {
   "cell_type": "code",
   "execution_count": 56,
   "id": "complex-speaker",
   "metadata": {},
   "outputs": [
    {
     "name": "stdout",
     "output_type": "stream",
     "text": [
      "CLUSTERS: 0\n",
      "age 11.797872340425531\n",
      "Counter({'M': 50, 'F': 44})\n",
      "[0.5319148936170213, 0.46808510638297873]\n",
      "\n",
      "CLUSTERS: 1\n",
      "age 11.726415094339623\n",
      "Counter({'F': 63, 'M': 43})\n",
      "[0.4056603773584906, 0.5943396226415094]\n",
      "\n",
      "CLUSTERS: 2\n",
      "age 14.368421052631579\n",
      "Counter({'F': 21, 'M': 17})\n",
      "[0.4473684210526316, 0.5526315789473685]\n",
      "\n",
      "CLUSTERS: 3\n",
      "age 11.252525252525253\n",
      "Counter({'M': 52, 'F': 47})\n",
      "[0.5252525252525253, 0.47474747474747475]\n",
      "\n",
      "time: 153 ms\n"
     ]
    }
   ],
   "source": [
    "for i in range(n):\n",
    "    print(\"CLUSTERS:\",i)\n",
    "    cluster_idx = np.where(kmeans.labels_ == i)[0]\n",
    "    print(\"age\", np.mean(np.array(age_seq)[idx][cluster_idx]))\n",
    "    \n",
    "    print(Counter(np.array(sex_seq)[idx][cluster_idx]))\n",
    "    print([i/len(cluster_idx) for i in Counter(np.array(sex_seq)[idx][cluster_idx]).values()])\n",
    "    print()\n",
    "\n",
    "\n"
   ]
  },
  {
   "cell_type": "code",
   "execution_count": null,
   "id": "marine-experiment",
   "metadata": {},
   "outputs": [],
   "source": []
  },
  {
   "cell_type": "code",
   "execution_count": 58,
   "id": "broadband-wesley",
   "metadata": {},
   "outputs": [
    {
     "data": {
      "text/plain": [
       "337"
      ]
     },
     "execution_count": 58,
     "metadata": {},
     "output_type": "execute_result"
    },
    {
     "name": "stdout",
     "output_type": "stream",
     "text": [
      "time: 1.2 s\n"
     ]
    }
   ],
   "source": [
    "pcode_seq = []\n",
    "\n",
    "for p in code_seq_2013:\n",
    "    pcode = []\n",
    "    for v in p:\n",
    "        for c in v:\n",
    "            pcode.append(c)\n",
    "    pcode_seq.append(pcode)\n",
    "    \n",
    "pcode_seq = [pcode_seq[i] for i in idx]\n",
    "len(pcode_seq)"
   ]
  },
  {
   "cell_type": "code",
   "execution_count": 72,
   "id": "electrical-wedding",
   "metadata": {},
   "outputs": [
    {
     "name": "stdout",
     "output_type": "stream",
     "text": [
      "CLUSTERS: 0\n",
      "CLUSTERS: 1\n",
      "CLUSTERS: 2\n",
      "CLUSTERS: 3\n",
      "time: 13.5 ms\n"
     ]
    }
   ],
   "source": [
    "count_list = []\n",
    "for i in range(n):\n",
    "    print(\"CLUSTERS:\",i)\n",
    "    cluster_idx = np.where(kmeans.labels_ == i)[0]\n",
    "    pcode_seq_cluster = [pcode_seq[i] for i in cluster_idx]\n",
    "    codes = [c for p in pcode_seq_cluster for c in p]\n",
    "    count_list.append(Counter(codes).most_common(10))"
   ]
  },
  {
   "cell_type": "code",
   "execution_count": 78,
   "id": "duplicate-harbor",
   "metadata": {},
   "outputs": [
    {
     "data": {
      "text/plain": [
       "[('M_FREESTYLE LITE STRIPS', 415),\n",
       " ('M_LANTUS SOLOSTAR', 397),\n",
       " ('M_HUMALOG', 341),\n",
       " ('D_250.01', 247),\n",
       " ('M_LANTUS', 246),\n",
       " ('M_BD ULTRA-FINE PEN NEEDLE', 237),\n",
       " ('M_KETOSTIX REAGENT', 218),\n",
       " ('M_GLUCAGON EMERGENCY KIT', 202),\n",
       " ('M_NOVOLOG FLEXPEN', 199),\n",
       " ('M_INSULIN SYRINGE', 191)]"
      ]
     },
     "execution_count": 78,
     "metadata": {},
     "output_type": "execute_result"
    },
    {
     "name": "stdout",
     "output_type": "stream",
     "text": [
      "time: 4.13 ms\n"
     ]
    }
   ],
   "source": [
    "count_list[0]"
   ]
  },
  {
   "cell_type": "code",
   "execution_count": 74,
   "id": "stuffed-stable",
   "metadata": {},
   "outputs": [
    {
     "data": {
      "text/plain": [
       "[('P_99213', 223),\n",
       " ('P_99214', 133),\n",
       " ('P_450', 105),\n",
       " ('D_250.00', 90),\n",
       " ('P_300', 85),\n",
       " ('P_510', 65),\n",
       " ('D_V20.2', 61),\n",
       " ('P_D1208', 58),\n",
       " ('P_99283', 51),\n",
       " ('P_D0120', 50)]"
      ]
     },
     "execution_count": 74,
     "metadata": {},
     "output_type": "execute_result"
    },
    {
     "name": "stdout",
     "output_type": "stream",
     "text": [
      "time: 5.84 ms\n"
     ]
    }
   ],
   "source": [
    "count_list[1]"
   ]
  },
  {
   "cell_type": "code",
   "execution_count": 75,
   "id": "known-crawford",
   "metadata": {},
   "outputs": [
    {
     "data": {
      "text/plain": [
       "[('M_METFORMIN HCL', 113),\n",
       " ('D_250.00', 93),\n",
       " ('P_510', 85),\n",
       " ('P_301', 58),\n",
       " ('P_942', 47),\n",
       " ('P_99214', 47),\n",
       " ('M_LISINOPRIL', 44),\n",
       " ('P_99213', 44),\n",
       " ('D_278.00', 40),\n",
       " ('P_300', 40)]"
      ]
     },
     "execution_count": 75,
     "metadata": {},
     "output_type": "execute_result"
    },
    {
     "name": "stdout",
     "output_type": "stream",
     "text": [
      "time: 3.67 ms\n"
     ]
    }
   ],
   "source": [
    "count_list[2]"
   ]
  },
  {
   "cell_type": "code",
   "execution_count": 76,
   "id": "lightweight-natural",
   "metadata": {},
   "outputs": [
    {
     "data": {
      "text/plain": [
       "[('D_250.01', 272),\n",
       " ('M_NOVOLOG', 251),\n",
       " ('D_250.03', 219),\n",
       " ('M_BD ULTRA-FINE PEN NEEDLE', 202),\n",
       " ('M_HUMALOG', 176),\n",
       " ('M_LANTUS SOLOSTAR', 161),\n",
       " ('M_TRUETEST TEST STRIPS', 146),\n",
       " ('P_99214', 136),\n",
       " ('M_GLUCAGON EMERGENCY KIT', 132),\n",
       " ('M_NOVOLOG FLEXPEN', 116)]"
      ]
     },
     "execution_count": 76,
     "metadata": {},
     "output_type": "execute_result"
    },
    {
     "name": "stdout",
     "output_type": "stream",
     "text": [
      "time: 3.37 ms\n"
     ]
    }
   ],
   "source": [
    "count_list[3]"
   ]
  },
  {
   "cell_type": "code",
   "execution_count": null,
   "id": "coated-melbourne",
   "metadata": {},
   "outputs": [],
   "source": []
  },
  {
   "cell_type": "code",
   "execution_count": null,
   "id": "southeast-portugal",
   "metadata": {},
   "outputs": [],
   "source": []
  },
  {
   "cell_type": "code",
   "execution_count": null,
   "id": "australian-filling",
   "metadata": {},
   "outputs": [],
   "source": []
  },
  {
   "cell_type": "code",
   "execution_count": null,
   "id": "theoretical-nightmare",
   "metadata": {},
   "outputs": [],
   "source": []
  },
  {
   "cell_type": "code",
   "execution_count": null,
   "id": "permanent-transport",
   "metadata": {},
   "outputs": [],
   "source": []
  },
  {
   "cell_type": "code",
   "execution_count": 33,
   "id": "surface-premises",
   "metadata": {},
   "outputs": [
    {
     "name": "stdout",
     "output_type": "stream",
     "text": [
      "time: 2.27 ms\n"
     ]
    }
   ],
   "source": [
    "def generate_plot(Embedding, labels, color_dic, legend, title):\n",
    "    tsne_model = TSNE(n_components=2, init='pca', random_state=23)\n",
    "    new_values = tsne_model.fit_transform(Embedding)\n",
    "    \n",
    "    x = []\n",
    "    y = []\n",
    "    for value in new_values:\n",
    "        x.append(value[0])\n",
    "        y.append(value[1])\n",
    "        \n",
    "    for i in range(len(x)):\n",
    "        plt.scatter(x[i],y[i], color = color_dic[labels[i]], alpha=0.4)\n",
    "    for i in range(len(color_dic)):\n",
    "        plt.scatter(0,0, color=color_dic[i], label=legend[i], alpha=0.4)\n",
    "    plt.legend()\n",
    "    \n",
    "    plt.xticks([])\n",
    "    plt.yticks([])\n",
    "    plt.savefig(title)\n",
    "    plt.show()"
   ]
  },
  {
   "cell_type": "code",
   "execution_count": 43,
   "id": "satisfied-ability",
   "metadata": {},
   "outputs": [
    {
     "data": {
      "image/png": "[encoded data removed]",
      "text/plain": [
       "<Figure size 432x288 with 1 Axes>"
      ]
     },
     "metadata": {},
     "output_type": "display_data"
    },
    {
     "name": "stdout",
     "output_type": "stream",
     "text": [
      "time: 9.7 s\n"
     ]
    }
   ],
   "source": [
    "# color_dic = {0:\"y\", 1:\"g\", 2:\"b\", 3:\"r\",4:\"black\"}\n",
    "# legend = [\"1\", \"2\", \"3\", \"4\",\"5\"]\n",
    "\n",
    "color_dic = {0:\"y\", 1:\"g\", 2:\"b\", 3:\"r\"}\n",
    "legend = [\"1\", \"2\", \"3\", \"4\"]\n",
    "\n",
    "generate_plot(TMAE_Embedding[idx], kmeans.labels_, color_dic, legend, title=\"Diabetes_clusters\")"
   ]
  },
  {
   "cell_type": "code",
   "execution_count": null,
   "id": "concrete-orchestra",
   "metadata": {},
   "outputs": [],
   "source": [
    "                                    "
   ]
  },
  {
   "cell_type": "code",
   "execution_count": null,
   "id": "casual-external",
   "metadata": {},
   "outputs": [],
   "source": []
  },
  {
   "cell_type": "code",
   "execution_count": null,
   "id": "fluid-forwarding",
   "metadata": {},
   "outputs": [],
   "source": []
  },
  {
   "cell_type": "code",
   "execution_count": null,
   "id": "operational-devices",
   "metadata": {},
   "outputs": [],
   "source": []
  },
  {
   "cell_type": "code",
   "execution_count": null,
   "id": "preceding-stanley",
   "metadata": {},
   "outputs": [],
   "source": [
    "# diag2cat = pickle.load(open(\"../DATA/CCS/diag2cat\",\"rb\"))\n",
    "\n",
    "# ccs_seq_2013 = []\n",
    "# for p in code_seq_2013:\n",
    "#     p_ccs = []\n",
    "#     for v in p:\n",
    "#         v_ccs = []\n",
    "#         for c in v:\n",
    "#             if c in diag2cat:\n",
    "#                 new_c = diag2cat[c]\n",
    "#                 v_ccs.append(new_c)\n",
    "#         p_ccs.extend(list(set(v_ccs)))\n",
    "#     ccs_seq_2013.append(p_ccs)\n",
    "    \n",
    "# def select_diag(code, code_seq, freq=1):\n",
    "#     idx_seq = []\n",
    "#     for i, p_code in enumerate(code_seq):\n",
    "#         if code in p_code and Counter(p_code)[code]>=freq:\n",
    "#             idx_seq.append(i)\n",
    "#     return idx_seq\n",
    "\n",
    "# idx = select_diag(\"49\", ccs_seq_2013, freq=1)\n",
    "# len(idx)\n",
    "\n",
    "# d1_idx = select_diag(\"128\", ccs_seq_2013, freq=3)[:1000]\n",
    "# len(d1_idx)"
   ]
  },
  {
   "cell_type": "code",
   "execution_count": null,
   "id": "exciting-million",
   "metadata": {},
   "outputs": [],
   "source": []
  }
 ],
 "metadata": {
  "kernelspec": {
   "display_name": "Python 3",
   "language": "python",
   "name": "python3"
  },
  "language_info": {
   "codemirror_mode": {
    "name": "ipython",
    "version": 3
   },
   "file_extension": ".py",
   "mimetype": "text/x-python",
   "name": "python",
   "nbconvert_exporter": "python",
   "pygments_lexer": "ipython3",
   "version": "3.7.9"
  }
 },
 "nbformat": 4,
 "nbformat_minor": 5
}
