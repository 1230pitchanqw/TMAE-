{
 "cells": [
  {
   "cell_type": "code",
   "execution_count": 1,
   "metadata": {},
   "outputs": [
    {
     "name": "stdout",
     "output_type": "stream",
     "text": [
      "time: 299 µs\n"
     ]
    }
   ],
   "source": [
    "%load_ext autotime"
   ]
  },
  {
   "cell_type": "code",
   "execution_count": 2,
   "metadata": {},
   "outputs": [
    {
     "name": "stdout",
     "output_type": "stream",
     "text": [
      "time: 749 ms\n"
     ]
    }
   ],
   "source": [
    "import pandas as pd\n",
    "import numpy as np\n",
    "import _pickle as pickle\n",
    "from datetime import datetime"
   ]
  },
  {
   "cell_type": "code",
   "execution_count": 3,
   "metadata": {},
   "outputs": [
    {
     "name": "stdout",
     "output_type": "stream",
     "text": [
      "time: 488 µs\n"
     ]
    }
   ],
   "source": [
    "claims_path = \"/Users/xxz005/Desktop/Raw_Data/PFK_Jan 2009 - Jul 2017/Claims.txt\"\n",
    "Eligibility_path = \"/Users/xxz005/Desktop/RAW_DATA/PFK_Jan 2009 - Jul 2017/Eligibility.txt\"\n",
    "Rxclaims_path = \"/Users/xxz005/Desktop/Raw_Data/PFK_Jan 2009 - Jul 2017/Rxclaims.txt\""
   ]
  },
  {
   "cell_type": "code",
   "execution_count": 4,
   "metadata": {},
   "outputs": [
    {
     "name": "stdout",
     "output_type": "stream",
     "text": [
      "time: 346 µs\n"
     ]
    }
   ],
   "source": [
    "# x = pd.read_csv(claims_path,sep=\"|\",nrows=10)\n",
    "# for i, m in enumerate(x.columns):\n",
    "#     print(i,m)"
   ]
  },
  {
   "cell_type": "code",
   "execution_count": 5,
   "metadata": {},
   "outputs": [
    {
     "name": "stdout",
     "output_type": "stream",
     "text": [
      "time: 4.01 ms\n"
     ]
    }
   ],
   "source": [
    "def process(claims_path, year_list):\n",
    "    pid_svcdt_map = {}\n",
    "    svcdt_info_map = {}\n",
    "    pid_dob_map = {}\n",
    "    pid_gender_map = {}\n",
    "    \n",
    "    with open(claims_path) as infile:\n",
    "        next(infile)\n",
    "        for i,line in enumerate(infile):\n",
    "            line=line.split(\"|\")\n",
    "            pid = line[0]\n",
    "            \n",
    "            # information\n",
    "            svcdt = line[27][:9]\n",
    "            svcenddt = line[28][:9]\n",
    "            if svcdt[-4:] not in year_list:continue\n",
    "                        \n",
    "            diag1 = line[13] #diag1~2 only \n",
    "            diag2 = line[14]\n",
    "            proc = line[21]\n",
    "            claimtype = line[71] \n",
    "            paid = line[46]\n",
    "            \n",
    "            svcdt_pid = svcdt+\"||\"+pid\n",
    "            info = [diag1, diag2, proc, claimtype, paid, svcdt]                           \n",
    "            \n",
    "            if pid not in pid_svcdt_map:\n",
    "                pid_svcdt_map[pid] = set([svcdt_pid])\n",
    "            else:\n",
    "                pid_svcdt_map[pid].add(svcdt_pid)\n",
    "                \n",
    "            if svcdt_pid not in svcdt_info_map:\n",
    "                svcdt_info_map[svcdt_pid] = [info]\n",
    "            else:\n",
    "                svcdt_info_map[svcdt_pid].append(info)  \n",
    "            \n",
    "            # Demographic\n",
    "            if len(line[51])<4:continue\n",
    "            \n",
    "            dob=line[51][:9]\n",
    "            gender = line[10]\n",
    "            \n",
    "            if pid not in pid_dob_map: \n",
    "                pid_dob_map[pid] = [dob]\n",
    "            else:\n",
    "                pid_dob_map[pid].append(dob)\n",
    "            \n",
    "            if pid not in pid_gender_map: \n",
    "                pid_gender_map[pid] = [gender]\n",
    "            else:\n",
    "                pid_gender_map[pid].append(gender)\n",
    "                \n",
    "    return pid_svcdt_map, svcdt_info_map, pid_dob_map, pid_gender_map"
   ]
  },
  {
   "cell_type": "code",
   "execution_count": 6,
   "metadata": {},
   "outputs": [
    {
     "name": "stdout",
     "output_type": "stream",
     "text": [
      "time: 5min 46s\n"
     ]
    }
   ],
   "source": [
    "pid_svcdt_map, svcdt_info_map, pid_dob_map, pid_gender_map = process(claims_path, [\"2013\", \"2014\"])"
   ]
  },
  {
   "cell_type": "code",
   "execution_count": 7,
   "metadata": {},
   "outputs": [
    {
     "name": "stdout",
     "output_type": "stream",
     "text": [
      "time: 5.54 ms\n"
     ]
    }
   ],
   "source": [
    "def processRX(claims_path, year_list):\n",
    "    pid_svcdt_map = {}\n",
    "    svcdt_info_map = {}\n",
    "    \n",
    "    with open(claims_path) as infile:\n",
    "        next(infile)\n",
    "        for i,line in enumerate(infile):\n",
    "            line=line.split(\"|\")\n",
    "            pid = line[0]\n",
    "            \n",
    "            # information\n",
    "            svcdt = line[7][:9]\n",
    "            if svcdt[-4:] not in year_list:continue\n",
    "                \n",
    "            Drugname = line[13]\n",
    "            DrugClass = line[16]\n",
    "            paid = line[19]\n",
    "            \n",
    "            svcdt_pid = svcdt+\"||\"+pid\n",
    "            info = [svcdt, Drugname, DrugClass, paid]                                        \n",
    "            \n",
    "            if pid not in pid_svcdt_map:\n",
    "                pid_svcdt_map[pid] = set([svcdt_pid])\n",
    "            else:\n",
    "                pid_svcdt_map[pid].add(svcdt_pid)\n",
    "                \n",
    "            if svcdt_pid not in svcdt_info_map:\n",
    "                svcdt_info_map[svcdt_pid] = [info]\n",
    "            else:\n",
    "                svcdt_info_map[svcdt_pid].append(info)  \n",
    "            \n",
    "    return pid_svcdt_map, svcdt_info_map"
   ]
  },
  {
   "cell_type": "code",
   "execution_count": 8,
   "metadata": {},
   "outputs": [
    {
     "name": "stdout",
     "output_type": "stream",
     "text": [
      "time: 2min 8s\n"
     ]
    }
   ],
   "source": [
    "pid_svcdt_map_RX, svcdt_info_map_RX = processRX(Rxclaims_path, [\"2013\", \"2014\"])"
   ]
  },
  {
   "cell_type": "code",
   "execution_count": 9,
   "metadata": {},
   "outputs": [
    {
     "name": "stdout",
     "output_type": "stream",
     "text": [
      "time: 10.5 ms\n"
     ]
    }
   ],
   "source": [
    "def eli_extract(path):\n",
    "    pid_eli_map = {}\n",
    "    with open(path) as infile:\n",
    "        next(infile)\n",
    "        for line in infile:\n",
    "            line = line.split('|')\n",
    "            pid = line[0]\n",
    "            eli_month = line[1]\n",
    "            if pid not in pid_eli_map:\n",
    "                pid_eli_map[pid] = [eli_month]\n",
    "            else:\n",
    "                pid_eli_map[pid].append(eli_month)\n",
    "    return pid_eli_map\n",
    "\n",
    "def check_eli(pid_eli_map, year_list):\n",
    "    pid_list = []\n",
    "    for p in pid_eli_map:\n",
    "        eli_flag=1\n",
    "        for year in year_list:\n",
    "            months = [i for i in pid_eli_map[p] if i.startswith(year)]\n",
    "            if len(months) <10:\n",
    "                eli_flag=0\n",
    "                break\n",
    "        if eli_flag: pid_list.append(p)\n",
    "    return pid_list\n",
    "\n",
    "def age_flag(p, age, year):\n",
    "    if p not in pid_dob_map:\n",
    "        return 0\n",
    "    else:\n",
    "        return int(pid_dob_map[p][0][-4:]) < year-age"
   ]
  },
  {
   "cell_type": "code",
   "execution_count": 10,
   "metadata": {},
   "outputs": [
    {
     "name": "stdout",
     "output_type": "stream",
     "text": [
      "Total eligible patients: 209978\n",
      "# of patients age>2: 174093\n",
      "time: 40.7 s\n"
     ]
    }
   ],
   "source": [
    "pid_eli_map = eli_extract(Eligibility_path)\n",
    "pid_list = check_eli(pid_eli_map, [\"2013\", \"2014\"])\n",
    "print(\"Total eligible patients:\", len(pid_list))\n",
    "\n",
    "pid_list = [p for p in pid_list if age_flag(p, 2, 2013)]\n",
    "print(\"# of patients age>2:\", len(pid_list))"
   ]
  },
  {
   "cell_type": "code",
   "execution_count": null,
   "metadata": {},
   "outputs": [],
   "source": []
  },
  {
   "cell_type": "markdown",
   "metadata": {},
   "source": [
    "# Input data"
   ]
  },
  {
   "cell_type": "code",
   "execution_count": 11,
   "metadata": {},
   "outputs": [
    {
     "name": "stdout",
     "output_type": "stream",
     "text": [
      "time: 4min 30s\n"
     ]
    }
   ],
   "source": [
    "StartDay = datetime.strptime('01JAN2013', '%d%b%Y')\n",
    "\n",
    "pid_seq = []\n",
    "age_seq = []\n",
    "sex_seq = []\n",
    "zip_seq = []\n",
    "\n",
    "cost_seq_2013 = []\n",
    "code_seq_2013 = []\n",
    "util_seq_2013 = []\n",
    "date_seq_2013 = []\n",
    "\n",
    "cost_seq_2014 = []\n",
    "code_seq_2014 = []\n",
    "util_seq_2014 = []\n",
    "date_seq_2014 = []\n",
    "\n",
    "for i, pid in enumerate(pid_list):        \n",
    "    code_2013 = []\n",
    "    util_2013 = []\n",
    "    cost_2013 = []\n",
    "    date_2013 = []\n",
    "\n",
    "    code_2014 = []\n",
    "    util_2014 = []\n",
    "    cost_2014 = []\n",
    "    date_2014 = []\n",
    "    \n",
    "    for svcdt in pid_svcdt_map[pid]:\n",
    "        svcdt_code = set()\n",
    "        svcdt_type = set()\n",
    "        svcdt_cost = 0\n",
    "        \n",
    "        for line_trans in svcdt_info_map[svcdt]:\n",
    "            diag1, diag2, proc, claimtype, paid, svcdt = line_trans\n",
    "            \n",
    "            claim_date = (datetime.strptime(svcdt, '%d%b%Y') - StartDay).days\n",
    "            paid = max(0, float(paid))\n",
    "            \n",
    "            if diag1: svcdt_code.add(\"D_\"+diag1)\n",
    "            if diag2: svcdt_code.add(\"D_\"+diag2)\n",
    "            if proc: svcdt_code.add(\"P_\"+proc)\n",
    "            svcdt_type.add(claimtype)\n",
    "            svcdt_cost += max(0, float(paid))\n",
    "        \n",
    "        if svcdt[-4:]==\"2013\":\n",
    "            code_2013.append(svcdt_code)\n",
    "            util_2013.append(svcdt_type)\n",
    "            cost_2013.append(svcdt_cost)\n",
    "            date_2013.append(claim_date)\n",
    "            \n",
    "        elif svcdt[-4:]==\"2014\":\n",
    "            code_2014.append(svcdt_code)\n",
    "            util_2014.append(svcdt_type)\n",
    "            cost_2014.append(svcdt_cost)\n",
    "            date_2014.append(claim_date)\n",
    "        \n",
    "        else:\n",
    "            print(pid)\n",
    "    \n",
    "    if pid in pid_svcdt_map_RX:\n",
    "        for svcdt in pid_svcdt_map_RX[pid]:\n",
    "            svcdt_code = set()\n",
    "            svcdt_class = set()\n",
    "            svcdt_type = set()\n",
    "            svcdt_cost = 0\n",
    "\n",
    "            for line_trans in svcdt_info_map_RX[svcdt]:\n",
    "                svcdt, Drugname, DrugClass, paid = line_trans\n",
    "                \n",
    "                claim_date = (datetime.strptime(svcdt, '%d%b%Y') - StartDay).days\n",
    "                claimtype = \"RX\"  \n",
    "                \n",
    "                if Drugname: svcdt_code.add(\"M_\"+Drugname)\n",
    "                if DrugClass: svcdt_class.add(DrugClass)\n",
    "                svcdt_type.add(claimtype)\n",
    "                svcdt_cost += max(0, float(paid))\n",
    "            \n",
    "            if svcdt[-4:]==\"2013\":\n",
    "                code_2013.append(svcdt_code)\n",
    "                util_2013.append(svcdt_type)\n",
    "                cost_2013.append(svcdt_cost)\n",
    "                date_2013.append(claim_date)\n",
    "            \n",
    "            elif svcdt[-4:]==\"2014\":\n",
    "                code_2014.append(svcdt_code)\n",
    "                util_2014.append(svcdt_type)\n",
    "                cost_2014.append(svcdt_cost)\n",
    "                date_2014.append(claim_date)\n",
    "    \n",
    "    if len(cost_2013)> 30:continue   # remove patient with visit times > k\n",
    "    if sum(cost_2013)< 100: continue\n",
    "        \n",
    "    pid_seq.append(pid)\n",
    "    \n",
    "    sex_seq.append(pid_gender_map[pid][0])\n",
    "    age_seq.append(2013 - int(pid_dob_map[pid][0][-4:]))    \n",
    "    \n",
    "    idx = np.argsort(date_2013)\n",
    "    code_seq_2013.append(np.array(code_2013)[idx])\n",
    "    cost_seq_2013.append(np.array(cost_2013)[idx])\n",
    "    util_seq_2013.append(np.array(util_2013)[idx])\n",
    "    date_seq_2013.append(np.array(date_2013)[idx])\n",
    "    \n",
    "    idx = np.argsort(date_2014)\n",
    "    code_seq_2014.append(np.array(code_2014)[idx])\n",
    "    cost_seq_2014.append(np.array(cost_2014)[idx])\n",
    "    util_seq_2014.append(np.array(util_2014)[idx])\n",
    "    date_seq_2014.append(np.array(date_2014)[idx])"
   ]
  },
  {
   "cell_type": "code",
   "execution_count": 12,
   "metadata": {},
   "outputs": [
    {
     "data": {
      "text/plain": [
       "144657"
      ]
     },
     "execution_count": 12,
     "metadata": {},
     "output_type": "execute_result"
    },
    {
     "name": "stdout",
     "output_type": "stream",
     "text": [
      "time: 25.4 ms\n"
     ]
    }
   ],
   "source": [
    "len(sex_seq)"
   ]
  },
  {
   "cell_type": "markdown",
   "metadata": {},
   "source": [
    "# Sanity Check"
   ]
  },
  {
   "cell_type": "code",
   "execution_count": 13,
   "metadata": {},
   "outputs": [
    {
     "name": "stdout",
     "output_type": "stream",
     "text": [
      "time: 578 µs\n"
     ]
    }
   ],
   "source": [
    "k=5"
   ]
  },
  {
   "cell_type": "code",
   "execution_count": 14,
   "metadata": {},
   "outputs": [
    {
     "data": {
      "text/plain": [
       "array([ 10.  , 151.28, 202.95,  47.41])"
      ]
     },
     "execution_count": 14,
     "metadata": {},
     "output_type": "execute_result"
    },
    {
     "name": "stdout",
     "output_type": "stream",
     "text": [
      "time: 23.8 ms\n"
     ]
    }
   ],
   "source": [
    "cost_seq_2013[k]"
   ]
  },
  {
   "cell_type": "code",
   "execution_count": 15,
   "metadata": {},
   "outputs": [
    {
     "data": {
      "text/plain": [
       "array([{'PR'}, {'OP', 'PR'}, {'RX'}, {'RX'}], dtype=object)"
      ]
     },
     "execution_count": 15,
     "metadata": {},
     "output_type": "execute_result"
    },
    {
     "name": "stdout",
     "output_type": "stream",
     "text": [
      "time: 3.24 ms\n"
     ]
    }
   ],
   "source": [
    "util_seq_2013[k]"
   ]
  },
  {
   "cell_type": "code",
   "execution_count": 16,
   "metadata": {},
   "outputs": [
    {
     "data": {
      "text/plain": [
       "array([196, 293, 293, 294])"
      ]
     },
     "execution_count": 16,
     "metadata": {},
     "output_type": "execute_result"
    },
    {
     "name": "stdout",
     "output_type": "stream",
     "text": [
      "time: 11.2 ms\n"
     ]
    }
   ],
   "source": [
    "date_seq_2013[k]"
   ]
  },
  {
   "cell_type": "code",
   "execution_count": 17,
   "metadata": {},
   "outputs": [
    {
     "data": {
      "text/plain": [
       "array([{'P_90633', 'D_V05.3'},\n",
       "       {'P_306', 'P_99214', 'D_788.1', 'D_493.00'},\n",
       "       {'M_EASIVENT', 'M_VENTOLIN HFA', 'M_QVAR'}, {'M_CEFDINIR'}],\n",
       "      dtype=object)"
      ]
     },
     "execution_count": 17,
     "metadata": {},
     "output_type": "execute_result"
    },
    {
     "name": "stdout",
     "output_type": "stream",
     "text": [
      "time: 5.88 ms\n"
     ]
    }
   ],
   "source": [
    "code_seq_2013[k]"
   ]
  },
  {
   "cell_type": "code",
   "execution_count": 18,
   "metadata": {},
   "outputs": [
    {
     "name": "stdout",
     "output_type": "stream",
     "text": [
      "time: 315 µs\n"
     ]
    }
   ],
   "source": [
    "# del pid_svcdt_map, \n",
    "# del svcdt_info_map, \n",
    "# del pid_dob_map, \n",
    "# del pid_gender_map, "
   ]
  },
  {
   "cell_type": "code",
   "execution_count": 19,
   "metadata": {},
   "outputs": [
    {
     "name": "stdout",
     "output_type": "stream",
     "text": [
      "time: 7min 5s\n"
     ]
    }
   ],
   "source": [
    "pickle.dump(age_seq,open(\"age_seq\",\"wb\"))\n",
    "pickle.dump(sex_seq,open(\"sex_seq\",\"wb\"))\n",
    "\n",
    "pickle.dump(code_seq_2013,open(\"code_seq_2013\",\"wb\"))\n",
    "pickle.dump(cost_seq_2013,open(\"cost_seq_2013\",\"wb\"))\n",
    "pickle.dump(util_seq_2013,open(\"util_seq_2013\",\"wb\"))\n",
    "pickle.dump(date_seq_2013,open(\"date_seq_2013\",\"wb\"))\n",
    "\n",
    "pickle.dump(code_seq_2014,open(\"code_seq_2014\",\"wb\"))\n",
    "pickle.dump(cost_seq_2014,open(\"cost_seq_2014\",\"wb\"))\n",
    "pickle.dump(util_seq_2014,open(\"util_seq_2014\",\"wb\"))\n",
    "pickle.dump(date_seq_2014,open(\"date_seq_2014\",\"wb\"))"
   ]
  },
  {
   "cell_type": "markdown",
   "metadata": {},
   "source": [
    "# process ccs"
   ]
  },
  {
   "cell_type": "code",
   "execution_count": 20,
   "metadata": {},
   "outputs": [
    {
     "name": "stdout",
     "output_type": "stream",
     "text": [
      "time: 533 ms\n"
     ]
    }
   ],
   "source": [
    "icd2cat = pickle.load(open(\"/Users/xxz005/Desktop/RAW_DATA/icd2ccs\",\"rb\"))\n",
    "cpt2cat = pickle.load(open(\"/Users/xxz005/Desktop/RAW_DATA/cpt2ccs\",\"rb\"))\n",
    "med2cat = pickle.load(open(\"/Users/xxz005/Desktop/RAW_DATA/drug2class\",\"rb\"))"
   ]
  },
  {
   "cell_type": "code",
   "execution_count": 21,
   "metadata": {},
   "outputs": [
    {
     "name": "stdout",
     "output_type": "stream",
     "text": [
      "time: 14.2 s\n"
     ]
    }
   ],
   "source": [
    "diag2cat = {}\n",
    "proc2cat = {}\n",
    "drug2cat = {}\n",
    "\n",
    "for p in code_seq_2013:\n",
    "    for v in p:\n",
    "        for c in v:\n",
    "            if c[0] == \"D\":\n",
    "                diag = c[2:].replace(\".\", \"\")\n",
    "                if diag in icd2cat:\n",
    "                    cat = icd2cat[diag]\n",
    "                    diag2cat[c] = cat\n",
    "            \n",
    "            elif c[0] == \"P\":\n",
    "                proc = c[2:]\n",
    "                if proc in cpt2cat:\n",
    "                    cat = cpt2cat[proc]\n",
    "                    proc2cat[c] = cat\n",
    "                    \n",
    "            elif c[0] == \"M\":\n",
    "                drug = c[2:]\n",
    "                if drug in med2cat:\n",
    "                    cat = med2cat[drug]\n",
    "                    drug2cat[c] = cat\n",
    "            else:\n",
    "                print(c)\n",
    "\n",
    "for p in code_seq_2014:\n",
    "    for v in p:\n",
    "        for c in v:\n",
    "            if c[0] == \"D\":\n",
    "                diag = c[2:].replace(\".\", \"\")\n",
    "                if diag in icd2cat:\n",
    "                    cat = icd2cat[diag]\n",
    "                    diag2cat[c] = cat\n",
    "            \n",
    "            elif c[0] == \"P\":\n",
    "                proc = c[2:]\n",
    "                if proc in cpt2cat:\n",
    "                    cat = cpt2cat[proc]\n",
    "                    proc2cat[c] = cat\n",
    "                    \n",
    "            elif c[0] == \"M\":\n",
    "                drug = c[2:]\n",
    "                if drug in med2cat:\n",
    "                    cat = med2cat[drug]\n",
    "                    drug2cat[c] = cat\n",
    "            else:\n",
    "                print(c)"
   ]
  },
  {
   "cell_type": "code",
   "execution_count": 22,
   "metadata": {},
   "outputs": [
    {
     "data": {
      "text/plain": [
       "(6416, 4265, 2643)"
      ]
     },
     "execution_count": 22,
     "metadata": {},
     "output_type": "execute_result"
    },
    {
     "name": "stdout",
     "output_type": "stream",
     "text": [
      "time: 12.7 ms\n"
     ]
    }
   ],
   "source": [
    "len(diag2cat), len(proc2cat), len(drug2cat)"
   ]
  },
  {
   "cell_type": "code",
   "execution_count": 23,
   "metadata": {},
   "outputs": [
    {
     "data": {
      "text/plain": [
       "(6321, 3659, 2113)"
      ]
     },
     "execution_count": 23,
     "metadata": {},
     "output_type": "execute_result"
    },
    {
     "name": "stdout",
     "output_type": "stream",
     "text": [
      "time: 1.43 s\n"
     ]
    }
   ],
   "source": [
    "vocab = list(set([x for p in code_seq_2013 for v in p for x in v]))\n",
    "\n",
    "len([x for x in vocab if x[0]==\"D\"]), len([x for x in vocab if x[0]==\"P\"]), len([x for x in vocab if x[0]==\"M\"])"
   ]
  },
  {
   "cell_type": "code",
   "execution_count": 24,
   "metadata": {},
   "outputs": [
    {
     "name": "stdout",
     "output_type": "stream",
     "text": [
      "time: 12.8 ms\n"
     ]
    }
   ],
   "source": [
    "pickle.dump(diag2cat,open(\"CCS/diag2cat\",\"wb\"))\n",
    "pickle.dump(proc2cat,open(\"CCS/proc2cat\",\"wb\"))\n",
    "pickle.dump(drug2cat,open(\"CCS/drug2cat\",\"wb\"))"
   ]
  },
  {
   "cell_type": "code",
   "execution_count": null,
   "metadata": {},
   "outputs": [],
   "source": []
  },
  {
   "cell_type": "code",
   "execution_count": null,
   "metadata": {},
   "outputs": [],
   "source": []
  },
  {
   "cell_type": "code",
   "execution_count": null,
   "metadata": {},
   "outputs": [],
   "source": []
  },
  {
   "cell_type": "code",
   "execution_count": null,
   "metadata": {},
   "outputs": [],
   "source": []
  },
  {
   "cell_type": "code",
   "execution_count": null,
   "metadata": {},
   "outputs": [],
   "source": []
  }
 ],
 "metadata": {
  "kernelspec": {
   "display_name": "Python 3",
   "language": "python",
   "name": "python3"
  },
  "language_info": {
   "codemirror_mode": {
    "name": "ipython",
    "version": 3
   },
   "file_extension": ".py",
   "mimetype": "text/x-python",
   "name": "python",
   "nbconvert_exporter": "python",
   "pygments_lexer": "ipython3",
   "version": "3.7.9"
  }
 },
 "nbformat": 4,
 "nbformat_minor": 2
}
